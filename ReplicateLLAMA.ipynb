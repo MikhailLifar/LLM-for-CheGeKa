{
 "cells": [
  {
   "cell_type": "code",
   "execution_count": 1,
   "id": "ee2efe6d-92bf-4102-aea1-b4ec8dbca670",
   "metadata": {
    "execution": {
     "iopub.execute_input": "2024-08-09T07:32:44.887362Z",
     "iopub.status.busy": "2024-08-09T07:32:44.886784Z",
     "iopub.status.idle": "2024-08-09T07:32:49.256536Z",
     "shell.execute_reply": "2024-08-09T07:32:49.255826Z",
     "shell.execute_reply.started": "2024-08-09T07:32:44.887333Z"
    },
    "tags": []
   },
   "outputs": [
    {
     "name": "stdout",
     "output_type": "stream",
     "text": [
      "Defaulting to user installation because normal site-packages is not writeable\n",
      "Requirement already satisfied: evaluate in /home/jupyter/.local/lib/python3.10/site-packages (0.4.2)\n",
      "Requirement already satisfied: datasets>=2.0.0 in /home/jupyter/.local/lib/python3.10/site-packages (from evaluate) (2.20.0)\n",
      "Requirement already satisfied: numpy>=1.17 in /usr/local/lib/python3.10/dist-packages (from evaluate) (1.22.4)\n",
      "Requirement already satisfied: dill in /home/jupyter/.local/lib/python3.10/site-packages (from evaluate) (0.3.8)\n",
      "Requirement already satisfied: pandas in /usr/local/lib/python3.10/dist-packages (from evaluate) (1.5.3)\n",
      "Requirement already satisfied: requests>=2.19.0 in /home/jupyter/.local/lib/python3.10/site-packages (from evaluate) (2.32.3)\n",
      "Requirement already satisfied: tqdm>=4.62.1 in /home/jupyter/.local/lib/python3.10/site-packages (from evaluate) (4.66.5)\n",
      "Requirement already satisfied: xxhash in /home/jupyter/.local/lib/python3.10/site-packages (from evaluate) (3.4.1)\n",
      "Requirement already satisfied: multiprocess in /home/jupyter/.local/lib/python3.10/site-packages (from evaluate) (0.70.16)\n",
      "Requirement already satisfied: fsspec>=2021.05.0 in /home/jupyter/.local/lib/python3.10/site-packages (from fsspec[http]>=2021.05.0->evaluate) (2024.5.0)\n",
      "Requirement already satisfied: huggingface-hub>=0.7.0 in /home/jupyter/.local/lib/python3.10/site-packages (from evaluate) (0.25.0.dev0)\n",
      "Requirement already satisfied: packaging in /usr/local/lib/python3.10/dist-packages (from evaluate) (23.1)\n",
      "Requirement already satisfied: filelock in /usr/local/lib/python3.10/dist-packages (from datasets>=2.0.0->evaluate) (3.12.2)\n",
      "Requirement already satisfied: pyarrow>=15.0.0 in /home/jupyter/.local/lib/python3.10/site-packages (from datasets>=2.0.0->evaluate) (17.0.0)\n",
      "Requirement already satisfied: pyarrow-hotfix in /home/jupyter/.local/lib/python3.10/site-packages (from datasets>=2.0.0->evaluate) (0.6)\n",
      "Requirement already satisfied: aiohttp in /usr/local/lib/python3.10/dist-packages (from datasets>=2.0.0->evaluate) (3.8.5)\n",
      "Requirement already satisfied: pyyaml>=5.1 in /usr/local/lib/python3.10/dist-packages (from datasets>=2.0.0->evaluate) (6.0.1)\n",
      "Requirement already satisfied: typing-extensions>=3.7.4.3 in /usr/local/lib/python3.10/dist-packages (from huggingface-hub>=0.7.0->evaluate) (4.7.1)\n",
      "Requirement already satisfied: charset-normalizer<4,>=2 in /usr/local/lib/python3.10/dist-packages (from requests>=2.19.0->evaluate) (2.0.12)\n",
      "Requirement already satisfied: idna<4,>=2.5 in /usr/local/lib/python3.10/dist-packages (from requests>=2.19.0->evaluate) (3.4)\n",
      "Requirement already satisfied: urllib3<3,>=1.21.1 in /usr/local/lib/python3.10/dist-packages (from requests>=2.19.0->evaluate) (1.26.16)\n",
      "Requirement already satisfied: certifi>=2017.4.17 in /usr/local/lib/python3.10/dist-packages (from requests>=2.19.0->evaluate) (2023.7.22)\n",
      "Requirement already satisfied: python-dateutil>=2.8.1 in /usr/local/lib/python3.10/dist-packages (from pandas->evaluate) (2.8.2)\n",
      "Requirement already satisfied: pytz>=2020.1 in /usr/local/lib/python3.10/dist-packages (from pandas->evaluate) (2022.7.1)\n",
      "Requirement already satisfied: attrs>=17.3.0 in /usr/local/lib/python3.10/dist-packages (from aiohttp->datasets>=2.0.0->evaluate) (23.1.0)\n",
      "Requirement already satisfied: multidict<7.0,>=4.5 in /usr/local/lib/python3.10/dist-packages (from aiohttp->datasets>=2.0.0->evaluate) (6.0.4)\n",
      "Requirement already satisfied: async-timeout<5.0,>=4.0.0a3 in /usr/local/lib/python3.10/dist-packages (from aiohttp->datasets>=2.0.0->evaluate) (4.0.2)\n",
      "Requirement already satisfied: yarl<2.0,>=1.0 in /usr/local/lib/python3.10/dist-packages (from aiohttp->datasets>=2.0.0->evaluate) (1.9.2)\n",
      "Requirement already satisfied: frozenlist>=1.1.1 in /usr/local/lib/python3.10/dist-packages (from aiohttp->datasets>=2.0.0->evaluate) (1.4.0)\n",
      "Requirement already satisfied: aiosignal>=1.1.2 in /usr/local/lib/python3.10/dist-packages (from aiohttp->datasets>=2.0.0->evaluate) (1.3.1)\n",
      "Requirement already satisfied: six>=1.5 in /usr/lib/python3/dist-packages (from python-dateutil>=2.8.1->pandas->evaluate) (1.16.0)\n",
      "\n",
      "\u001b[1m[\u001b[0m\u001b[34;49mnotice\u001b[0m\u001b[1;39;49m]\u001b[0m\u001b[39;49m A new release of pip is available: \u001b[0m\u001b[31;49m23.0.1\u001b[0m\u001b[39;49m -> \u001b[0m\u001b[32;49m24.2\u001b[0m\n",
      "\u001b[1m[\u001b[0m\u001b[34;49mnotice\u001b[0m\u001b[1;39;49m]\u001b[0m\u001b[39;49m To update, run: \u001b[0m\u001b[32;49mpython3 -m pip install --upgrade pip\u001b[0m\n"
     ]
    }
   ],
   "source": [
    "%pip install evaluate"
   ]
  },
  {
   "cell_type": "code",
   "execution_count": 1,
   "id": "0216c3bd-efa4-4cf1-9f6d-6219f25eca38",
   "metadata": {
    "execution": {
     "iopub.execute_input": "2024-08-10T18:31:19.112704Z",
     "iopub.status.busy": "2024-08-10T18:31:19.112100Z",
     "iopub.status.idle": "2024-08-10T18:31:24.786890Z",
     "shell.execute_reply": "2024-08-10T18:31:24.786278Z",
     "shell.execute_reply.started": "2024-08-10T18:31:19.112683Z"
    },
    "tags": []
   },
   "outputs": [],
   "source": [
    "import torch\n",
    "\n",
    "# from datasets import load_dataset, load_metric, list_metrics\n",
    "\n",
    "from tqdm import tqdm\n",
    "\n",
    "from typing import Dict, List, Optional\n",
    "\n",
    "import dataclasses\n",
    "from dataclasses import dataclass, field\n",
    "\n",
    "import logging\n",
    "import os\n",
    "import sys\n",
    "import gc\n"
   ]
  },
  {
   "cell_type": "code",
   "execution_count": 2,
   "id": "46402b30-2676-409b-a937-12afce61f0d9",
   "metadata": {
    "execution": {
     "iopub.execute_input": "2024-08-10T18:31:28.597023Z",
     "iopub.status.busy": "2024-08-10T18:31:28.596169Z",
     "iopub.status.idle": "2024-08-10T18:31:29.936683Z",
     "shell.execute_reply": "2024-08-10T18:31:29.936092Z",
     "shell.execute_reply.started": "2024-08-10T18:31:28.596998Z"
    },
    "tags": []
   },
   "outputs": [],
   "source": [
    "import numpy as np\n",
    "import pandas as pd\n",
    "import matplotlib.pyplot as plt\n",
    "import seaborn as sns"
   ]
  },
  {
   "cell_type": "code",
   "execution_count": 3,
   "id": "04526d94-505a-4405-998b-2d29e7e1912d",
   "metadata": {
    "execution": {
     "iopub.execute_input": "2024-08-10T18:31:29.937927Z",
     "iopub.status.busy": "2024-08-10T18:31:29.937647Z",
     "iopub.status.idle": "2024-08-10T18:31:29.951045Z",
     "shell.execute_reply": "2024-08-10T18:31:29.950520Z",
     "shell.execute_reply.started": "2024-08-10T18:31:29.937909Z"
    },
    "tags": []
   },
   "outputs": [],
   "source": [
    "torch.cuda.empty_cache()"
   ]
  },
  {
   "cell_type": "code",
   "execution_count": 4,
   "id": "8e81f4b5-1ae0-4fa9-bbd8-ed7d7d6c0485",
   "metadata": {
    "execution": {
     "iopub.execute_input": "2024-08-10T18:31:29.952177Z",
     "iopub.status.busy": "2024-08-10T18:31:29.951703Z",
     "iopub.status.idle": "2024-08-10T18:31:30.100200Z",
     "shell.execute_reply": "2024-08-10T18:31:30.099536Z",
     "shell.execute_reply.started": "2024-08-10T18:31:29.952157Z"
    },
    "tags": []
   },
   "outputs": [
    {
     "data": {
      "text/plain": [
       "72"
      ]
     },
     "execution_count": 4,
     "metadata": {},
     "output_type": "execute_result"
    }
   ],
   "source": [
    "gc.collect()"
   ]
  },
  {
   "cell_type": "markdown",
   "id": "b5d6eacb-c05a-44bc-9318-082b8756e2d6",
   "metadata": {},
   "source": [
    "## Load the data"
   ]
  },
  {
   "cell_type": "code",
   "execution_count": 5,
   "id": "912ca9c8-8e06-46d5-a2fb-83400029444d",
   "metadata": {
    "execution": {
     "iopub.execute_input": "2024-08-10T18:31:30.101851Z",
     "iopub.status.busy": "2024-08-10T18:31:30.101358Z",
     "iopub.status.idle": "2024-08-10T18:31:30.137431Z",
     "shell.execute_reply": "2024-08-10T18:31:30.136710Z",
     "shell.execute_reply.started": "2024-08-10T18:31:30.101831Z"
    },
    "tags": []
   },
   "outputs": [
    {
     "name": "stdout",
     "output_type": "stream",
     "text": [
      "/home/jupyter/work/resources/MERA\n"
     ]
    }
   ],
   "source": [
    "# !git clone https://github.com/ai-forever/MERA\n",
    "%cd ../MERA"
   ]
  },
  {
   "cell_type": "code",
   "execution_count": 6,
   "id": "24406d88-b8df-42c2-b19d-787ec8e7a378",
   "metadata": {
    "execution": {
     "iopub.execute_input": "2024-08-10T18:31:30.138572Z",
     "iopub.status.busy": "2024-08-10T18:31:30.138226Z",
     "iopub.status.idle": "2024-08-10T18:31:32.929608Z",
     "shell.execute_reply": "2024-08-10T18:31:32.928991Z",
     "shell.execute_reply.started": "2024-08-10T18:31:30.138553Z"
    },
    "tags": []
   },
   "outputs": [],
   "source": [
    "from datasets import load_dataset"
   ]
  },
  {
   "cell_type": "code",
   "execution_count": 7,
   "id": "8bc2a171-51f3-4e28-865c-c9f99be18c7a",
   "metadata": {
    "execution": {
     "iopub.execute_input": "2024-08-10T18:31:32.931172Z",
     "iopub.status.busy": "2024-08-10T18:31:32.930372Z",
     "iopub.status.idle": "2024-08-10T18:31:32.941374Z",
     "shell.execute_reply": "2024-08-10T18:31:32.940827Z",
     "shell.execute_reply.started": "2024-08-10T18:31:32.931149Z"
    },
    "tags": []
   },
   "outputs": [],
   "source": [
    "# !pip install -U datasets"
   ]
  },
  {
   "cell_type": "code",
   "execution_count": 8,
   "id": "13532d09-4350-4fd4-9211-b7160ffbc539",
   "metadata": {
    "execution": {
     "iopub.execute_input": "2024-08-10T18:31:32.943200Z",
     "iopub.status.busy": "2024-08-10T18:31:32.942643Z",
     "iopub.status.idle": "2024-08-10T18:31:32.952061Z",
     "shell.execute_reply": "2024-08-10T18:31:32.951538Z",
     "shell.execute_reply.started": "2024-08-10T18:31:32.943180Z"
    },
    "tags": []
   },
   "outputs": [],
   "source": [
    "DATASET_PATH = \"ai-forever/MERA\"\n",
    "DATASET_NAME = 'chegeka'"
   ]
  },
  {
   "cell_type": "code",
   "execution_count": 9,
   "id": "f0fc7a6b-da67-4a08-908b-955bc576a26e",
   "metadata": {
    "execution": {
     "iopub.execute_input": "2024-08-10T18:31:32.953061Z",
     "iopub.status.busy": "2024-08-10T18:31:32.952727Z",
     "iopub.status.idle": "2024-08-10T18:31:38.415516Z",
     "shell.execute_reply": "2024-08-10T18:31:38.414957Z",
     "shell.execute_reply.started": "2024-08-10T18:31:32.953042Z"
    },
    "tags": []
   },
   "outputs": [
    {
     "data": {
      "text/plain": [
       "DatasetDict({\n",
       "    train: Dataset({\n",
       "        features: ['instruction', 'inputs', 'outputs', 'meta'],\n",
       "        num_rows: 29376\n",
       "    })\n",
       "    test: Dataset({\n",
       "        features: ['instruction', 'inputs', 'outputs', 'meta'],\n",
       "        num_rows: 416\n",
       "    })\n",
       "})"
      ]
     },
     "execution_count": 9,
     "metadata": {},
     "output_type": "execute_result"
    }
   ],
   "source": [
    "data = load_dataset(DATASET_PATH,\n",
    "                  DATASET_NAME)\n",
    "data"
   ]
  },
  {
   "cell_type": "code",
   "execution_count": 10,
   "id": "1fd56b5d-7841-4dcd-a27f-ba57d116d709",
   "metadata": {
    "execution": {
     "iopub.execute_input": "2024-08-10T18:31:38.416679Z",
     "iopub.status.busy": "2024-08-10T18:31:38.416212Z",
     "iopub.status.idle": "2024-08-10T18:31:38.524054Z",
     "shell.execute_reply": "2024-08-10T18:31:38.523462Z",
     "shell.execute_reply.started": "2024-08-10T18:31:38.416660Z"
    },
    "tags": []
   },
   "outputs": [],
   "source": [
    "df_to_eval = data['train'].to_pandas().loc[:415]"
   ]
  },
  {
   "cell_type": "code",
   "execution_count": 11,
   "id": "753e7673-499c-4853-89f9-228a4d39c08a",
   "metadata": {
    "execution": {
     "iopub.execute_input": "2024-08-10T18:31:38.525415Z",
     "iopub.status.busy": "2024-08-10T18:31:38.524792Z",
     "iopub.status.idle": "2024-08-10T18:31:38.538388Z",
     "shell.execute_reply": "2024-08-10T18:31:38.537839Z",
     "shell.execute_reply.started": "2024-08-10T18:31:38.525395Z"
    },
    "tags": []
   },
   "outputs": [
    {
     "data": {
      "text/plain": [
       "{'id': 26667,\n",
       " 'author': 'Кирилл Богловский',\n",
       " 'tour_name': 'IX Кубок Европы по интеллектуальным играм среди студентов (Петродворец). Своя игра',\n",
       " 'tour_link': 'https://db.chgk.info/tour/eu13stsv'}"
      ]
     },
     "execution_count": 11,
     "metadata": {},
     "output_type": "execute_result"
    }
   ],
   "source": [
    "df_to_eval['meta'][255]"
   ]
  },
  {
   "cell_type": "code",
   "execution_count": 12,
   "id": "4a7dd19a-ff71-4630-b5c4-72be38696c9e",
   "metadata": {
    "execution": {
     "iopub.execute_input": "2024-08-10T18:31:38.539565Z",
     "iopub.status.busy": "2024-08-10T18:31:38.539028Z",
     "iopub.status.idle": "2024-08-10T18:31:38.569692Z",
     "shell.execute_reply": "2024-08-10T18:31:38.569203Z",
     "shell.execute_reply.started": "2024-08-10T18:31:38.539546Z"
    },
    "tags": []
   },
   "outputs": [
    {
     "data": {
      "text/html": [
       "<div>\n",
       "<style scoped>\n",
       "    .dataframe tbody tr th:only-of-type {\n",
       "        vertical-align: middle;\n",
       "    }\n",
       "\n",
       "    .dataframe tbody tr th {\n",
       "        vertical-align: top;\n",
       "    }\n",
       "\n",
       "    .dataframe thead th {\n",
       "        text-align: right;\n",
       "    }\n",
       "</style>\n",
       "<table border=\"1\" class=\"dataframe\">\n",
       "  <thead>\n",
       "    <tr style=\"text-align: right;\">\n",
       "      <th></th>\n",
       "      <th>instruction</th>\n",
       "      <th>inputs</th>\n",
       "      <th>outputs</th>\n",
       "      <th>meta</th>\n",
       "    </tr>\n",
       "  </thead>\n",
       "  <tbody>\n",
       "    <tr>\n",
       "      <th>0</th>\n",
       "      <td>Вы участвуете в викторине “Что? Где? Когда?”. ...</td>\n",
       "      <td>{'text': 'Ключевым элементом конструкции ИХ ср...</td>\n",
       "      <td>Бэби-боксы {зачет: описательные ответы про ящи...</td>\n",
       "      <td>{'id': 29263, 'author': 'Александр Печёный, Ал...</td>\n",
       "    </tr>\n",
       "    <tr>\n",
       "      <th>1</th>\n",
       "      <td>Вы участвуете в викторине “Что? Где? Когда?”. ...</td>\n",
       "      <td>{'text': 'Продолжение этого фильма Евгения Мат...</td>\n",
       "      <td>\"Любовь земная\"</td>\n",
       "      <td>{'id': 13464, 'author': 'Андрей Марьянский', '...</td>\n",
       "    </tr>\n",
       "    <tr>\n",
       "      <th>2</th>\n",
       "      <td>Прочитайте вопрос из категории \"{topic}\" и отв...</td>\n",
       "      <td>{'text': 'С ЭТИМ ЧЕЛОВЕКОМ, 33-м потомком Нина...</td>\n",
       "      <td>Сарданапал (Нин, как и Сарданапал, — легендарн...</td>\n",
       "      <td>{'id': 21920, 'author': 'Евгений Поникаров, Ал...</td>\n",
       "    </tr>\n",
       "    <tr>\n",
       "      <th>3</th>\n",
       "      <td>Вы участвуете в викторине “Что? Где? Когда?”. ...</td>\n",
       "      <td>{'text': 'По мнению древнего мудреца Рюхейб-би...</td>\n",
       "      <td>Молчание</td>\n",
       "      <td>{'id': 8117, 'author': 'Варвара Годына', 'tour...</td>\n",
       "    </tr>\n",
       "  </tbody>\n",
       "</table>\n",
       "</div>"
      ],
      "text/plain": [
       "                                         instruction  ...                                               meta\n",
       "0  Вы участвуете в викторине “Что? Где? Когда?”. ...  ...  {'id': 29263, 'author': 'Александр Печёный, Ал...\n",
       "1  Вы участвуете в викторине “Что? Где? Когда?”. ...  ...  {'id': 13464, 'author': 'Андрей Марьянский', '...\n",
       "2  Прочитайте вопрос из категории \"{topic}\" и отв...  ...  {'id': 21920, 'author': 'Евгений Поникаров, Ал...\n",
       "3  Вы участвуете в викторине “Что? Где? Когда?”. ...  ...  {'id': 8117, 'author': 'Варвара Годына', 'tour...\n",
       "\n",
       "[4 rows x 4 columns]"
      ]
     },
     "execution_count": 12,
     "metadata": {},
     "output_type": "execute_result"
    }
   ],
   "source": [
    "df_to_eval.head(4)"
   ]
  },
  {
   "cell_type": "code",
   "execution_count": 13,
   "id": "b4eee4af-e30a-4820-a33c-6c7b52876506",
   "metadata": {
    "execution": {
     "iopub.execute_input": "2024-08-10T18:31:38.570568Z",
     "iopub.status.busy": "2024-08-10T18:31:38.570278Z",
     "iopub.status.idle": "2024-08-10T18:31:38.589076Z",
     "shell.execute_reply": "2024-08-10T18:31:38.588550Z",
     "shell.execute_reply.started": "2024-08-10T18:31:38.570544Z"
    },
    "tags": []
   },
   "outputs": [
    {
     "data": {
      "text/plain": [
       "0                    Бэби-боксы\n",
       "1               \"Любовь земная\"\n",
       "2                    Сарданапал\n",
       "3                      Молчание\n",
       "4                 Ку-клукс-клан\n",
       "                 ...           \n",
       "411                       Рахит\n",
       "412           \"Конец Распутина\"\n",
       "413                Желтый Туман\n",
       "414                    Шестерня\n",
       "415    Убежать — \"Отпусти меня\"\n",
       "Name: outputs, Length: 416, dtype: object"
      ]
     },
     "execution_count": 13,
     "metadata": {},
     "output_type": "execute_result"
    }
   ],
   "source": [
    "df_to_eval.outputs = df_to_eval.outputs.map(lambda s: s.split(' (')[0].split(' {')[0].strip())\n",
    "df_to_eval.outputs"
   ]
  },
  {
   "cell_type": "code",
   "execution_count": 14,
   "id": "c8ceb2d5-4899-42d4-b796-7bc2a5b811a2",
   "metadata": {
    "execution": {
     "iopub.execute_input": "2024-08-10T18:31:38.590424Z",
     "iopub.status.busy": "2024-08-10T18:31:38.589730Z",
     "iopub.status.idle": "2024-08-10T18:31:38.601774Z",
     "shell.execute_reply": "2024-08-10T18:31:38.601258Z",
     "shell.execute_reply.started": "2024-08-10T18:31:38.590392Z"
    },
    "tags": []
   },
   "outputs": [
    {
     "data": {
      "text/plain": [
       "(416, 4)"
      ]
     },
     "execution_count": 14,
     "metadata": {},
     "output_type": "execute_result"
    }
   ],
   "source": [
    "df_to_eval.shape"
   ]
  },
  {
   "cell_type": "code",
   "execution_count": 15,
   "id": "cbb0d81f-3948-4514-9d56-18474da46c58",
   "metadata": {
    "execution": {
     "iopub.execute_input": "2024-08-10T18:31:38.604074Z",
     "iopub.status.busy": "2024-08-10T18:31:38.603469Z",
     "iopub.status.idle": "2024-08-10T18:31:38.613770Z",
     "shell.execute_reply": "2024-08-10T18:31:38.613241Z",
     "shell.execute_reply.started": "2024-08-10T18:31:38.604051Z"
    },
    "tags": []
   },
   "outputs": [
    {
     "data": {
      "text/plain": [
       "(array(['Вы участвуете в викторине “Что? Где? Когда?”. Внимательно прочитайте вопрос из категории \"{topic}\" и ответьте на него.\\nВопрос: {text}\\nВ качестве ответа запишите только ваш вариант без дополнительных объяснений.\\nОтвет:',\n",
       "        'Вы участвуете в викторине “Что? Где? Когда?”. Внимательно прочитайте вопрос из категории \"{topic}\" и ответьте на него. Обратите внимание на формат ответа: если он не указан в вопросе, то запишите только слово или фразу, отвечающую на вопрос, никаких дополнительных рассуждений приводить не нужно.\\nВопрос: {text}\\nОтвет:',\n",
       "        'Вы участвуете в викторине “Что? Где? Когда?”. Категория вопроса: {topic}\\nВнимательно прочитайте вопрос и ответьте на него: {text}\\nОтвет:',\n",
       "        'Прочитайте вопрос из категории \"{topic}\" и ответьте на него: {text}\\nОтвет:'],\n",
       "       dtype=object),\n",
       " array([104, 116,  94, 102]))"
      ]
     },
     "execution_count": 15,
     "metadata": {},
     "output_type": "execute_result"
    }
   ],
   "source": [
    "np.unique(df_to_eval.instruction, return_counts=True)"
   ]
  },
  {
   "cell_type": "code",
   "execution_count": null,
   "id": "f9ba8725-d1b6-474a-a2f9-a113bb935c92",
   "metadata": {
    "execution": {
     "iopub.execute_input": "2024-08-10T18:31:38.614967Z",
     "iopub.status.busy": "2024-08-10T18:31:38.614426Z",
     "iopub.status.idle": "2024-08-10T18:31:38.623634Z",
     "shell.execute_reply": "2024-08-10T18:31:38.622945Z",
     "shell.execute_reply.started": "2024-08-10T18:31:38.614936Z"
    },
    "tags": []
   },
   "outputs": [],
   "source": [
    "# df_test = data['test'].to_pandas()\n",
    "# df_test"
   ]
  },
  {
   "cell_type": "code",
   "execution_count": 17,
   "id": "6952191a-3fbe-44da-8d9e-c3672db8d644",
   "metadata": {
    "execution": {
     "iopub.execute_input": "2024-08-10T18:31:38.625360Z",
     "iopub.status.busy": "2024-08-10T18:31:38.624516Z",
     "iopub.status.idle": "2024-08-10T18:31:38.788836Z",
     "shell.execute_reply": "2024-08-10T18:31:38.788212Z",
     "shell.execute_reply.started": "2024-08-10T18:31:38.625328Z"
    },
    "tags": []
   },
   "outputs": [
    {
     "data": {
      "text/html": [
       "<div>\n",
       "<style scoped>\n",
       "    .dataframe tbody tr th:only-of-type {\n",
       "        vertical-align: middle;\n",
       "    }\n",
       "\n",
       "    .dataframe tbody tr th {\n",
       "        vertical-align: top;\n",
       "    }\n",
       "\n",
       "    .dataframe thead th {\n",
       "        text-align: right;\n",
       "    }\n",
       "</style>\n",
       "<table border=\"1\" class=\"dataframe\">\n",
       "  <thead>\n",
       "    <tr style=\"text-align: right;\">\n",
       "      <th></th>\n",
       "      <th>instruction</th>\n",
       "      <th>inputs</th>\n",
       "      <th>outputs</th>\n",
       "      <th>meta</th>\n",
       "    </tr>\n",
       "  </thead>\n",
       "  <tbody>\n",
       "    <tr>\n",
       "      <th>0</th>\n",
       "      <td>Вы участвуете в викторине “Что? Где? Когда?”. ...</td>\n",
       "      <td>{'text': 'В песне \"Варьете\" ОДИН — маленький, ...</td>\n",
       "      <td>Столик и диван</td>\n",
       "      <td>{'id': 1944, 'author': 'Дмитрий Башук, Татьяна...</td>\n",
       "    </tr>\n",
       "    <tr>\n",
       "      <th>1</th>\n",
       "      <td>Вы участвуете в викторине “Что? Где? Когда?”. ...</td>\n",
       "      <td>{'text': 'Именно так звенит колокольчик в стих...</td>\n",
       "      <td>\"Колокольчик: дин-дин-дин\"</td>\n",
       "      <td>{'id': 12630, 'author': 'Татьяна Лещенко', 'to...</td>\n",
       "    </tr>\n",
       "    <tr>\n",
       "      <th>2</th>\n",
       "      <td>Вы участвуете в викторине “Что? Где? Когда?”. ...</td>\n",
       "      <td>{'text': 'Из всех своих музыкальных произведен...</td>\n",
       "      <td>\"Ландыши\"</td>\n",
       "      <td>{'id': 3919, 'author': 'Байрам Кулиев', 'tour_...</td>\n",
       "    </tr>\n",
       "    <tr>\n",
       "      <th>3</th>\n",
       "      <td>Прочитайте вопрос из категории \"{topic}\" и отв...</td>\n",
       "      <td>{'text': 'Жену звали Роксана, сестру — Фессало...</td>\n",
       "      <td>Олимпиада (Александр Македонский)</td>\n",
       "      <td>{'id': 15000, 'author': 'Диана Ильягуева, Анат...</td>\n",
       "    </tr>\n",
       "    <tr>\n",
       "      <th>4</th>\n",
       "      <td>Прочитайте вопрос из категории \"{topic}\" и отв...</td>\n",
       "      <td>{'text': 'Число \"ворон\" равно...', 'topic': 'Ч...</td>\n",
       "      <td>10 млн</td>\n",
       "      <td>{'id': 5553, 'author': 'Александр Шелёмин, Тем...</td>\n",
       "    </tr>\n",
       "    <tr>\n",
       "      <th>...</th>\n",
       "      <td>...</td>\n",
       "      <td>...</td>\n",
       "      <td>...</td>\n",
       "      <td>...</td>\n",
       "    </tr>\n",
       "    <tr>\n",
       "      <th>410</th>\n",
       "      <td>Вы участвуете в викторине “Что? Где? Когда?”. ...</td>\n",
       "      <td>{'text': 'В микрорассказе Святослава Логинова ...</td>\n",
       "      <td>Холодильник</td>\n",
       "      <td>{'id': 22512, 'author': 'Евгений Шляхов, Алекс...</td>\n",
       "    </tr>\n",
       "    <tr>\n",
       "      <th>411</th>\n",
       "      <td>Вы участвуете в викторине “Что? Где? Когда?”. ...</td>\n",
       "      <td>{'text': 'Сначала ее построили в 1836 г. по пр...</td>\n",
       "      <td>Триумфальная Арка</td>\n",
       "      <td>{'id': 17839, 'author': 'Константин Петров', '...</td>\n",
       "    </tr>\n",
       "    <tr>\n",
       "      <th>412</th>\n",
       "      <td>Вы участвуете в викторине “Что? Где? Когда?”. ...</td>\n",
       "      <td>{'text': 'Герой ЭТОЙ пьесы Альфреда Жарри стан...</td>\n",
       "      <td>\"ЮБЮ-КОРОЛЬ\"</td>\n",
       "      <td>{'id': 16827, 'author': 'Анатолий Суханов, Анд...</td>\n",
       "    </tr>\n",
       "    <tr>\n",
       "      <th>413</th>\n",
       "      <td>Вы участвуете в викторине “Что? Где? Когда?”. ...</td>\n",
       "      <td>{'text': 'Один из этих братьев достиг пика сво...</td>\n",
       "      <td>(Юрий и Михаил) Мархели</td>\n",
       "      <td>{'id': 2332, 'author': 'Михаил Манчук', 'tour_...</td>\n",
       "    </tr>\n",
       "    <tr>\n",
       "      <th>414</th>\n",
       "      <td>Вы участвуете в викторине “Что? Где? Когда?”. ...</td>\n",
       "      <td>{'text': 'Так звали любимую кошку Алисы', 'top...</td>\n",
       "      <td>Дина</td>\n",
       "      <td>{'id': 7754, 'author': 'Надежда Чуйко', 'tour_...</td>\n",
       "    </tr>\n",
       "  </tbody>\n",
       "</table>\n",
       "<p>415 rows × 4 columns</p>\n",
       "</div>"
      ],
      "text/plain": [
       "                                           instruction  ...                                               meta\n",
       "0    Вы участвуете в викторине “Что? Где? Когда?”. ...  ...  {'id': 1944, 'author': 'Дмитрий Башук, Татьяна...\n",
       "1    Вы участвуете в викторине “Что? Где? Когда?”. ...  ...  {'id': 12630, 'author': 'Татьяна Лещенко', 'to...\n",
       "2    Вы участвуете в викторине “Что? Где? Когда?”. ...  ...  {'id': 3919, 'author': 'Байрам Кулиев', 'tour_...\n",
       "3    Прочитайте вопрос из категории \"{topic}\" и отв...  ...  {'id': 15000, 'author': 'Диана Ильягуева, Анат...\n",
       "4    Прочитайте вопрос из категории \"{topic}\" и отв...  ...  {'id': 5553, 'author': 'Александр Шелёмин, Тем...\n",
       "..                                                 ...  ...                                                ...\n",
       "410  Вы участвуете в викторине “Что? Где? Когда?”. ...  ...  {'id': 22512, 'author': 'Евгений Шляхов, Алекс...\n",
       "411  Вы участвуете в викторине “Что? Где? Когда?”. ...  ...  {'id': 17839, 'author': 'Константин Петров', '...\n",
       "412  Вы участвуете в викторине “Что? Где? Когда?”. ...  ...  {'id': 16827, 'author': 'Анатолий Суханов, Анд...\n",
       "413  Вы участвуете в викторине “Что? Где? Когда?”. ...  ...  {'id': 2332, 'author': 'Михаил Манчук', 'tour_...\n",
       "414  Вы участвуете в викторине “Что? Где? Когда?”. ...  ...  {'id': 7754, 'author': 'Надежда Чуйко', 'tour_...\n",
       "\n",
       "[415 rows x 4 columns]"
      ]
     },
     "execution_count": 17,
     "metadata": {},
     "output_type": "execute_result"
    }
   ],
   "source": [
    "df_train = data['train'].to_pandas()\n",
    "df_train = df_train.loc[df_train.shape[0] - 415:, :].reset_index(drop=True)\n",
    "df_train"
   ]
  },
  {
   "cell_type": "markdown",
   "id": "238be5e4-5157-41a2-844d-18ba2ddfccb6",
   "metadata": {
    "tags": []
   },
   "source": [
    "## Inference"
   ]
  },
  {
   "cell_type": "code",
   "execution_count": 18,
   "id": "d3878082-29ab-4d30-a46c-6d503fd4d2a0",
   "metadata": {
    "execution": {
     "iopub.execute_input": "2024-08-10T18:31:38.790158Z",
     "iopub.status.busy": "2024-08-10T18:31:38.789557Z",
     "iopub.status.idle": "2024-08-10T18:31:38.819026Z",
     "shell.execute_reply": "2024-08-10T18:31:38.818469Z",
     "shell.execute_reply.started": "2024-08-10T18:31:38.790139Z"
    },
    "tags": []
   },
   "outputs": [
    {
     "data": {
      "text/plain": [
       "'Вы участвуете в викторине “Что? Где? Когда?”. Внимательно прочитайте вопрос из категории \"Бэби\" и ответьте на него.\\nВопрос: Ключевым элементом конструкции ИХ средневековых аналогов была вращающаяся дверь.\\nВ качестве ответа запишите только ваш вариант без дополнительных объяснений.\\nОтвет:'"
      ]
     },
     "execution_count": 18,
     "metadata": {},
     "output_type": "execute_result"
    }
   ],
   "source": [
    "query = df_to_eval.instruction[0].format(**df_to_eval.inputs[0])\n",
    "query"
   ]
  },
  {
   "cell_type": "code",
   "execution_count": 19,
   "id": "8893c227-f478-437c-ab37-7cb843cd718c",
   "metadata": {
    "execution": {
     "iopub.execute_input": "2024-08-10T18:31:38.820479Z",
     "iopub.status.busy": "2024-08-10T18:31:38.819688Z",
     "iopub.status.idle": "2024-08-10T18:31:40.769824Z",
     "shell.execute_reply": "2024-08-10T18:31:40.768872Z",
     "shell.execute_reply.started": "2024-08-10T18:31:38.820447Z"
    },
    "tags": []
   },
   "outputs": [
    {
     "name": "stdout",
     "output_type": "stream",
     "text": [
      "\n",
      "\n",
      "Колыбель."
     ]
    }
   ],
   "source": [
    "import replicate\n",
    "for event in replicate.stream(\n",
    "    \"meta/meta-llama-3-70b-instruct\",\n",
    "    input={\n",
    "        \"prompt\": query\n",
    "    },\n",
    "):\n",
    "    print(str(event), end=\"\")"
   ]
  },
  {
   "cell_type": "code",
   "execution_count": 22,
   "id": "3fbc023d-83a7-4afa-9198-edb97fef0d2f",
   "metadata": {
    "execution": {
     "iopub.execute_input": "2024-08-10T18:31:40.798817Z",
     "iopub.status.busy": "2024-08-10T18:31:40.798553Z",
     "iopub.status.idle": "2024-08-10T18:31:56.243538Z",
     "shell.execute_reply": "2024-08-10T18:31:56.242729Z",
     "shell.execute_reply.started": "2024-08-10T18:31:40.798801Z"
    },
    "tags": []
   },
   "outputs": [
    {
     "name": "stderr",
     "output_type": "stream",
     "text": [
      "/home/jupyter/.local/lib/python3.10/site-packages/transformers/utils/hub.py:127: FutureWarning: Using `TRANSFORMERS_CACHE` is deprecated and will be removed in v5 of Transformers. Use `HF_HOME` instead.\n",
      "  warnings.warn(\n",
      "2024-08-10 18:31:42.809638: I tensorflow/core/util/port.cc:110] oneDNN custom operations are on. You may see slightly different numerical results due to floating-point round-off errors from different computation orders. To turn them off, set the environment variable `TF_ENABLE_ONEDNN_OPTS=0`.\n",
      "2024-08-10 18:31:43.878370: I tensorflow/core/platform/cpu_feature_guard.cc:182] This TensorFlow binary is optimized to use available CPU instructions in performance-critical operations.\n",
      "To enable the following instructions: AVX2 AVX512F AVX512_VNNI FMA, in other operations, rebuild TensorFlow with the appropriate compiler flags.\n",
      "2024-08-10 18:31:47.153213: W tensorflow/compiler/tf2tensorrt/utils/py_utils.cc:38] TF-TRT Warning: Could not find TensorRT\n",
      "Downloading builder script: 100%|██████████| 5.67k/5.67k [00:00<00:00, 23.3MB/s]\n",
      "Downloading builder script: 100%|██████████| 6.77k/6.77k [00:00<00:00, 27.5MB/s]\n"
     ]
    }
   ],
   "source": [
    "from evaluate import load\n",
    "EM = load(\"exact_match\")"
   ]
  },
  {
   "cell_type": "markdown",
   "id": "b25d7e23-2fef-4f39-a675-b369119819ce",
   "metadata": {},
   "source": [
    "Tokenizer is needed to compute f1 according to our function"
   ]
  },
  {
   "cell_type": "code",
   "execution_count": 23,
   "id": "b1b13120-307b-4ce6-8f3e-9cb2b66d0538",
   "metadata": {
    "execution": {
     "iopub.execute_input": "2024-08-10T18:31:56.245282Z",
     "iopub.status.busy": "2024-08-10T18:31:56.244660Z",
     "iopub.status.idle": "2024-08-10T18:31:56.862440Z",
     "shell.execute_reply": "2024-08-10T18:31:56.861699Z",
     "shell.execute_reply.started": "2024-08-10T18:31:56.245257Z"
    },
    "tags": []
   },
   "outputs": [],
   "source": [
    "from transformers import AutoTokenizer\n",
    "import collections\n",
    "\n",
    "tokenizer = AutoTokenizer.from_pretrained(\"mistralai/Mistral-Nemo-Instruct-2407\")\n",
    "\n",
    "def compute_f1(a_gold, a_pred): \n",
    "    gold_toks = tokenizer.encode(a_gold, return_tensors='pt') \n",
    "    pred_toks = tokenizer.encode(a_pred, return_tensors='pt')\n",
    "    gold_count = collections.Counter(gold_toks.numpy().flatten().tolist())\n",
    "    pred_count = collections.Counter(pred_toks.numpy().flatten().tolist())\n",
    "    common = gold_count & pred_count\n",
    "    # print(gold_toks.numpy().tolist())\n",
    "    # print(torch.sort(gold_toks), torch.sort(pred_toks))\n",
    "    # print(collections.Counter(gold_toks.numpy().flatten().tolist()), collections.Counter(pred_toks.numpy().flatten().tolist()))\n",
    "    num_same = sum(common.values())\n",
    "    if len(gold_toks) == 0 or len(pred_toks) == 0:\n",
    "    # If either is no-answer, then F1 is 1 if they agree, 0 otherwise \n",
    "        return int(gold_toks == pred_toks)\n",
    "    if num_same == 0:\n",
    "        return 0\n",
    "    precision = 1.0*num_same / sum(pred_count.values())\n",
    "    recall = 1.0*num_same / sum(gold_count.values())\n",
    "    f1 = (2*precision*recall) / (precision + recall)\n",
    "    return f1\n"
   ]
  },
  {
   "cell_type": "code",
   "execution_count": 35,
   "id": "a959dff9-bcb3-4e12-892f-0d38bbeaa02b",
   "metadata": {
    "execution": {
     "iopub.execute_input": "2024-08-10T19:04:34.128235Z",
     "iopub.status.busy": "2024-08-10T19:04:34.127187Z",
     "iopub.status.idle": "2024-08-10T19:04:34.141556Z",
     "shell.execute_reply": "2024-08-10T19:04:34.140937Z",
     "shell.execute_reply.started": "2024-08-10T19:04:34.128204Z"
    },
    "tags": []
   },
   "outputs": [],
   "source": [
    "import asyncio\n",
    "import concurrent.futures\n",
    "import json\n",
    "\n",
    "import re\n",
    "import string\n",
    "\n",
    "\n",
    "def clear_resp(resp):\n",
    "    resp = re.sub(r'\\(.*?\\)', '', resp)  # delete brackets\n",
    "    regex = re.compile('[%s]' % re.escape(string.punctuation)) # delete punctuation\n",
    "    resp = regex.sub('', resp).strip()\n",
    "    return resp\n",
    "\n",
    "\n",
    "async def async_ask(quest, top_k=50, try_num=2, clear=False):\n",
    "    for _ in range(try_num):\n",
    "        try:\n",
    "            resp = await replicate.async_run(\"meta/meta-llama-3.1-405b-instruct\",\n",
    "                                             input={\n",
    "                                                 \"prompt\": quest,\n",
    "                                                 \"top_k\": top_k,\n",
    "                                                })\n",
    "            resp = ''.join(resp)\n",
    "            if clear:\n",
    "                resp = clear_resp(resp)\n",
    "            break\n",
    "        except Exception as e:\n",
    "            print(e)\n",
    "            resp = '--error--'\n",
    "    \n",
    "    return resp\n",
    "\n",
    "async def async_ask_stright(df_, row_idx, logId=None):\n",
    "    quest = df_.instruction[row_idx].format(**df_.inputs[row_idx])\n",
    "    resp = await async_ask(quest, clear=False)\n",
    "    return resp\n",
    "\n",
    "async def async_ask_many(ask_method, df_, logId):\n",
    "    res = await asyncio.gather(*(ask_method(df_, i, logId=logId) for i in df_.index))\n",
    "    return res"
   ]
  },
  {
   "cell_type": "code",
   "execution_count": 61,
   "id": "44339bf8-9ffb-4378-a887-cc73e9d3d645",
   "metadata": {
    "execution": {
     "iopub.execute_input": "2024-08-10T20:35:47.655815Z",
     "iopub.status.busy": "2024-08-10T20:35:47.654859Z",
     "iopub.status.idle": "2024-08-10T20:35:47.678271Z",
     "shell.execute_reply": "2024-08-10T20:35:47.677730Z",
     "shell.execute_reply.started": "2024-08-10T20:35:47.655772Z"
    },
    "tags": []
   },
   "outputs": [],
   "source": [
    "# %%time\n",
    "# 300 is Ok, 400 is not Ok\n",
    "# await async_ask_many(async_ask_stright, df_to_eval.loc[:20, :], logId=None)"
   ]
  },
  {
   "cell_type": "code",
   "execution_count": 26,
   "id": "9f4d9573-1818-4eef-b060-4e8ce900e086",
   "metadata": {
    "execution": {
     "iopub.execute_input": "2024-08-10T18:32:03.714550Z",
     "iopub.status.busy": "2024-08-10T18:32:03.713551Z",
     "iopub.status.idle": "2024-08-10T18:32:03.762498Z",
     "shell.execute_reply": "2024-08-10T18:32:03.761861Z",
     "shell.execute_reply.started": "2024-08-10T18:32:03.714525Z"
    },
    "tags": []
   },
   "outputs": [],
   "source": [
    "async def async_inference(df_, ask_method, logId):\n",
    "    responses = []\n",
    "    max_async = 100  # max is near 300, but 100 .\n",
    "    for i in range(0, df_.shape[0], max_async):\n",
    "        responses.extend(await async_ask_many(ask_method, df_.loc[i:i+max_async-1, :], logId=logId))\n",
    "    f1 = [compute_f1(df_['outputs'][idx], responses[i]) for i, idx in enumerate(df_.index)]\n",
    "    f1_mean = np.mean(f1)\n",
    "    em = EM.compute(predictions=responses, references=df_.outputs.to_list())\n",
    "    print(f'f1 {f1_mean}; EM: {em}')\n",
    "    return f1_mean, em, responses, f1"
   ]
  },
  {
   "cell_type": "code",
   "execution_count": 27,
   "id": "9e27f421-398f-4bfe-be3a-a188c452a723",
   "metadata": {
    "execution": {
     "iopub.execute_input": "2024-08-10T18:32:04.369802Z",
     "iopub.status.busy": "2024-08-10T18:32:04.368647Z",
     "iopub.status.idle": "2024-08-10T18:32:04.407416Z",
     "shell.execute_reply": "2024-08-10T18:32:04.406762Z",
     "shell.execute_reply.started": "2024-08-10T18:32:04.369776Z"
    },
    "tags": []
   },
   "outputs": [],
   "source": [
    "## Not necessary since cannot submit to MERA anyways\n",
    "# import json\n",
    "# async def async_prep_submission(df_, ask_method, sub_name):\n",
    "#     d_to_sub = {\n",
    "#         'data': {\n",
    "#             'test': None\n",
    "#         },\n",
    "#     }\n",
    "#     responses = []\n",
    "#     max_async = 100  # max is near 300, but 100 .\n",
    "#     for i in range(0, df_.shape[0], max_async):\n",
    "#         responses.extend(await async_ask_many(ask_method, df_.loc[i:i+max_async-1, :]))\n",
    "#     meta = [df_.meta[i]['id'] for i in range(df_.shape[0])]\n",
    "#     d_to_sub['data']['test'] = [{'outputs': resp, 'meta': {'id': idx}} for resp, idx in zip(responses, meta)]\n",
    "#     # d_to_sub['data']['test'] = [{'outputs': bytes(resp, \"utf-8\").decode('unicode-escape'), 'meta': {'id': idx}} \n",
    "#     #                             for resp, idx in zip(responses, meta)]\n",
    "#     with open(f'/home/jupyter/datasphere/project/submissions/{sub_name}.json', 'w') as fwrite:\n",
    "#         json.dump(d_to_sub, fwrite, ensure_ascii=False)\n",
    "#     return d_to_sub"
   ]
  },
  {
   "cell_type": "code",
   "execution_count": 129,
   "id": "7e122ec6-5dd5-4702-8e23-82be0617f342",
   "metadata": {
    "execution": {
     "iopub.execute_input": "2024-08-10T12:36:08.205826Z",
     "iopub.status.busy": "2024-08-10T12:36:08.204900Z",
     "iopub.status.idle": "2024-08-10T12:36:46.717251Z",
     "shell.execute_reply": "2024-08-10T12:36:46.716561Z",
     "shell.execute_reply.started": "2024-08-10T12:36:08.205796Z"
    },
    "tags": []
   },
   "outputs": [
    {
     "name": "stdout",
     "output_type": "stream",
     "text": [
      "f1 0.4437383873424858; EM: {'exact_match': 0.13942307692307693}\n"
     ]
    }
   ],
   "source": [
    "# %%time\n",
    "f1_score, em_score, responses_, f1_scores = await async_inference(df_to_eval.iloc[:, :], async_ask_stright, logId=None) "
   ]
  },
  {
   "cell_type": "code",
   "execution_count": 37,
   "id": "678dd859-af5d-4202-b0f5-1642bd2d6ff3",
   "metadata": {
    "execution": {
     "iopub.execute_input": "2024-08-10T19:05:01.918274Z",
     "iopub.status.busy": "2024-08-10T19:05:01.917353Z",
     "iopub.status.idle": "2024-08-10T19:05:01.957215Z",
     "shell.execute_reply": "2024-08-10T19:05:01.956519Z",
     "shell.execute_reply.started": "2024-08-10T19:05:01.918248Z"
    },
    "tags": []
   },
   "outputs": [],
   "source": [
    "async def async_ask_simple_augment(df_, row_idx, logId=None):\n",
    "    quest = df_.instruction[row_idx].format(**df_.inputs[row_idx])\n",
    "    quest = quest.replace('\\nОтвет:', '')\n",
    "    quest += ' Обязательно пиши ответ только на русском языке. В ответ пиши исключительно одно слово или фразу, нельзя писать больше. \\\n",
    "        Не добавляй никаких дополнительных знаков пунктуации в начале и в конце. \\nОтвет: '\n",
    "    return await async_ask(quest, top_k=1, clear=True)"
   ]
  },
  {
   "cell_type": "code",
   "execution_count": 39,
   "id": "80a62c4f-a384-4666-a3c6-6b633705a286",
   "metadata": {
    "execution": {
     "iopub.execute_input": "2024-08-10T19:05:06.501586Z",
     "iopub.status.busy": "2024-08-10T19:05:06.500698Z",
     "iopub.status.idle": "2024-08-10T19:05:41.568291Z",
     "shell.execute_reply": "2024-08-10T19:05:41.567539Z",
     "shell.execute_reply.started": "2024-08-10T19:05:06.501561Z"
    },
    "tags": []
   },
   "outputs": [
    {
     "name": "stdout",
     "output_type": "stream",
     "text": [
      "f1 0.45706562446832505; EM: {'exact_match': 0.20673076923076922}\n"
     ]
    }
   ],
   "source": [
    "f1_score, em_score, responses_, f1_scores = await async_inference(df_to_eval.iloc[:, :], async_ask_simple_augment, logId=None) "
   ]
  },
  {
   "cell_type": "markdown",
   "id": "1ccac2f5-d048-41f6-b333-a483b3e7a4d2",
   "metadata": {},
   "source": [
    "## Multiagent, v0, duplicate agents + captain + envoy"
   ]
  },
  {
   "cell_type": "code",
   "execution_count": 61,
   "id": "259a6e7e-567f-4284-9b0e-c700c5c81e8c",
   "metadata": {
    "execution": {
     "iopub.execute_input": "2024-08-10T10:59:05.156497Z",
     "iopub.status.busy": "2024-08-10T10:59:05.155510Z",
     "iopub.status.idle": "2024-08-10T10:59:05.175848Z",
     "shell.execute_reply": "2024-08-10T10:59:05.175208Z",
     "shell.execute_reply.started": "2024-08-10T10:59:05.156468Z"
    },
    "tags": []
   },
   "outputs": [],
   "source": [
    "def async_get_for_multiagent_v0(answs_num=4,\n",
    "                          top_k_gen=50, top_k_critic=50, top_k_captain=1,\n",
    "                          first_greedy=True):\n",
    "    \n",
    "    async def ask_func(df, row_idx, verbose=False, logId=None):\n",
    "        \"\"\"\n",
    "        Scheme: suggester -> critic -> suggester (based on all answers and all critiques) -> ... -> captain[?] -> envoy\n",
    "        \"\"\"\n",
    "        topic = df.inputs[row_idx].get('topic', '')\n",
    "        q = df.inputs[row_idx]['text']\n",
    "        existing_answers = []\n",
    "        existing_critics = []\n",
    "\n",
    "        if verbose:\n",
    "            print(f'<Qestion>:\\n{q}')\n",
    "        for i in range(answs_num):\n",
    "            if i == 0:\n",
    "                suggester_q = 'Ты - участник игры \"Что? Где? Когда?\", и твоя задача ответить на заданный тебе вопрос по заданной теме. Обоснуй свой ответ.\\\n",
    "                    \\nТема вопроса: {topic}\\nВопрос: {q}\\nОтвет: '.format(topic=topic, q=q)\n",
    "            else:\n",
    "                suggester_q = 'Ты - участник команды в игре \"Что? Где? Когда?\". Тебе дан вопрос, тема вопроса и ответы на вопрос, \\\n",
    "                    предложенные другими участниками команды, а также критические возражения к ним.\\\n",
    "                    \\nТема вопроса: {topic}\\nВопрос: {q}'.format(topic=topic, q=q)\n",
    "                for j, answ, critic in zip(range(len(existing_answers)), existing_answers, existing_critics):\n",
    "                    suggester_q += f'\\nОтвет {j}й: {answ}\\nКритика {j}го ответа: {critic}'\n",
    "                suggester_q += '\\nТвоя задача предложить не встречавшийся ранее вариант ответа на поставленный вопрос. Обоснуй свой ответ. \\nОтвет: '\n",
    "            # print(f'<suggester_q_{i}>: {suggester_q}')\n",
    "            if first_greedy and (i == 0):\n",
    "                resp = await async_ask(suggester_q, 1)\n",
    "            else:\n",
    "                resp = await async_ask(suggester_q, top_k_gen)\n",
    "            if verbose:\n",
    "                print(f'\\n!!!<suggester_answ_{i}>!!!:\\n{resp}')\n",
    "            existing_answers.append(resp)\n",
    "\n",
    "            critic_q = 'Ты - участник команды в игре \"Что? Где? Когда?\". Тебе дан вопрос, тема вопроса и ответ на вопрос, \\\n",
    "                предложенный другим участником команды.\\\n",
    "                \\nТема вопроса: {topic} \\nВопрос: {q}\\nОтвет другого участника {resp}\\\n",
    "                \\nТвоя задача предложить обоснванную критику варианта, предложенного другим участником.\\\n",
    "                \\nКритика: '.format(topic=topic, q=q, resp=resp)\n",
    "            # print(f'<critic_q_{i}>: {critic_q}')\n",
    "            # if first_greedy and (i == 0):\n",
    "            #     resp = ask(critic_q, 1)\n",
    "            # else:\n",
    "            resp = await async_ask(critic_q, top_k_critic)\n",
    "            if verbose:\n",
    "                print(f'\\n!!!<critic_answ_{i}>!!!:\\n{resp}')\n",
    "            existing_critics.append(resp)\n",
    "\n",
    "        captain_q = 'Ты - участник команды в игре \"Что? Где? Когда?\". Тебе дан вопрос, тема вопроса и ответы на вопрос, \\\n",
    "            предложенные другими участниками команды, а также критические возражения к ним.\\\n",
    "            \\nТема вопроса: {topic}\\nВопрос: {q}'.format(topic=topic, q=q)\n",
    "        for j, answ, critic in zip(range(len(existing_answers)), existing_answers, existing_critics):\n",
    "            captain_q += f'\\nОтвет {j}й: {answ}\\nКритика {j}го ответа: {critic}'\n",
    "        captain_q += '\\nТвоя задача кратко суммировать все ответы и критику на них. \\\n",
    "            В конце ты должен указать тот вариант, который вероятнее всего является правильным. Обоснуй свой ответ. \\nОтвет: '\n",
    "        # captain_q += '\\nТвоя задача выбрать из предложенных вариантов тот, который вероятнее всего является правильным. Обоснуй свой ответ. \\nОтвет: '\n",
    "        # print(f'<captain_q>: {captain_q}')\n",
    "        captain_resp = await async_ask(captain_q, top_k=top_k_captain)\n",
    "        if verbose:\n",
    "            print(f'\\n!!!<captain_answ>!!!:\\n{captain_resp}')\n",
    "        \n",
    "        envoy_q = 'Ты - участник команды в игре \"Что? Где? Когда?\". Тебе дан вопрос, тема вопроса и ответ капитана команды.\\\n",
    "            \\nТема вопроса: {topic}\\nВопрос: {q}\\nОтвет капитана команды {captain_resp}'.format(topic=topic, q=q, captain_resp=captain_resp)\n",
    "        envoy_q += '\\nТвоя задача сформировать окончательный ответ команды в соответствии с ответом капиатна. Обязательно пиши ответ только на русском языке. \\\n",
    "            Ответ должен быть кратким, без пояснений. \\\n",
    "            Не добавляй никаких дополнительных знаков пунктуации в начале и в конце.\\nОтвет: '\n",
    "        # print(f'<envoy_q>: {envoy_q}')\n",
    "        envoy_resp = await async_ask(envoy_q, top_k=1)\n",
    "        if verbose:\n",
    "            print(f'\\n!!!<envoy_answ>!!!:\\n{envoy_resp}')\n",
    "        \n",
    "        if logId is not None:\n",
    "            dialogue = f'<Qestion>:\\n{q}\\n'\n",
    "            for i, answ, crit in zip(range(len(existing_answers)), existing_answers, existing_critics):\n",
    "                dialogue += f'\\n!!!<suggester_answ_{i}>!!!:\\n{answ}\\n'\n",
    "                dialogue += f'\\n!!!<critic_answ_{i}>!!!:\\n{crit}\\n'\n",
    "            dialogue += f'\\n!!!<captain_answ>!!!:\\n{captain_resp}\\n'\n",
    "            dialogue += f'\\n!!!<envoy_answ>!!!:\\n{envoy_resp}'\n",
    "            \n",
    "            logDir = f'/home/jupyter/datasphere/project/log/{logId}'\n",
    "            os.makedirs(logDir, exist_ok=True)\n",
    "            with open(f'{logDir}/q{row_idx}.txt', 'w') as fwrite:\n",
    "                fwrite.write(dialogue)\n",
    "\n",
    "        return envoy_resp\n",
    "    \n",
    "    return ask_func"
   ]
  },
  {
   "cell_type": "code",
   "execution_count": 62,
   "id": "37430449-3ede-4547-9232-0192303bb2dd",
   "metadata": {
    "execution": {
     "iopub.execute_input": "2024-08-10T10:59:05.440056Z",
     "iopub.status.busy": "2024-08-10T10:59:05.439390Z",
     "iopub.status.idle": "2024-08-10T10:59:05.451766Z",
     "shell.execute_reply": "2024-08-10T10:59:05.451228Z",
     "shell.execute_reply.started": "2024-08-10T10:59:05.440033Z"
    },
    "tags": []
   },
   "outputs": [],
   "source": [
    "async_ask_multiagent_v0 = async_get_for_multiagent_v0()"
   ]
  },
  {
   "cell_type": "code",
   "execution_count": 63,
   "id": "7f58a941-0cee-4830-b3c1-8b83653b399a",
   "metadata": {
    "execution": {
     "iopub.execute_input": "2024-08-10T10:59:05.796818Z",
     "iopub.status.busy": "2024-08-10T10:59:05.796018Z",
     "iopub.status.idle": "2024-08-10T11:00:37.432406Z",
     "shell.execute_reply": "2024-08-10T11:00:37.431777Z",
     "shell.execute_reply.started": "2024-08-10T10:59:05.796791Z"
    },
    "tags": []
   },
   "outputs": [
    {
     "name": "stdout",
     "output_type": "stream",
     "text": [
      "<Qestion>:\n",
      "По одной из версий, начало названия ЭТОЙ ОРГАНИЗАЦИИ происходит от греческого слова, обозначающего круг.\n",
      "\n",
      "!!!<suggester_answ_0>!!!:\n",
      "Ку-клукс-клан.\n",
      "\n",
      "!!!<critic_answ_0>!!!:\n",
      "Я не могу предоставить ответ на этот вопрос.\n",
      "\n",
      "!!!<suggester_answ_1>!!!:\n",
      "Мой вариант ответа: \"Круглый стол\".\n",
      "\n",
      "Обоснование: \"Круглый стол\" - это название организации, которая восходит к легенде о короле Артуре и его рыцарях, собиравшихся за круглым столом. Название организации происходит от греческого слова \"κύκλος\" (kyklos), обозначающего круг. Таким образом, название \"Круглый стол\" соответствует критериям вопроса.\n",
      "\n",
      "Кроме того, \"Круглый стол\" - это реальная организация, существовавшая в истории, и ее название имеет прямую связь с греческим словом, обозначающим круг. Это делает мой ответ более убедительным, чем предыдущие варианты.\n",
      "\n",
      "!!!<critic_answ_1>!!!:\n",
      "Критика варианта \"Круглый стол\":\n",
      "\n",
      "Хотя вариант \"Круглый стол\" выглядит убедительным на первый взгляд, у меня есть несколько сомнений относительно его правильности.\n",
      "\n",
      "Во-первых, хотя \"Круглый стол\" действительно является организацией, связанной с королем Артуром и его рыцарями, я не уверен, что ее название напрямую происходит от греческого слова \"κύκλος\" (kyklos). В легенде о короле Артуре \"Круглый стол\" скорее символизирует равенство и единство рыцарей, чем имеет какое-либо прямое отношение к греческому слову.\n",
      "\n",
      "Во-вторых, вопрос конкретно спрашивает об организации, название которой \"начинается\" с греческого слова, обозначающего круг. Название \"Круглый стол\" не начинается с греческого слова \"κύκλος\", а скорее является переводом на русский язык. Это может быть несовпадением с критериями вопроса.\n",
      "\n",
      "В-третьих, существует другая организация, название которой ближе соответствует критериям вопроса. Я не уверен, что \"Круглый стол\" - это единственная организация, которая подходит под описание в вопросе.\n",
      "\n",
      "В заключении, хотя вариант \"Круглый стол\" выглядит интересным, я считаю, что он не полностью соответствует критериям вопроса и требует более тщательного рассмотрения.\n",
      "\n",
      "!!!<suggester_answ_2>!!!:\n",
      "Мой вариант ответа: \"Кирил и Мефодий\".\n",
      "\n",
      "Обоснование: Кирил и Мефодий - это организация, названная в честь двух братьев-миссионеров, которые создали славянскую азбуку и перевели христианские тексты на славянские языки. Название организации происходит от греческого слова \"κύκλος\" (kyklos), обозначающего круг. Кирил и Мефодий использовали круг как символ единства и равенства в своих учениях.\n",
      "\n",
      "Кроме того, организация \"Кирил и Мефодий\" существует с IX века и является важной частью славянской культуры и истории. Ее название имеет прямую связь с греческим словом, обозначающим круг, что делает мой ответ более убедительным, чем предыдущие варианты.\n",
      "\n",
      "В отличие от предыдущих вариантов, мой ответ не имеет тех же критических замечаний. Название \"Кирил и Мефодий\" начинается с греческого слова \"Κύριλλος\" (Kyrios), что означает \"Господь\" или \"Круг\". Это соответствует критериям вопроса, который требует, чтобы название организации начиналось с греческого слова, обозначающего круг.\n",
      "\n",
      "В заключении, мой вариант ответа \"Кирил и Мефодий\" является более убедительным и соответствует критериям вопроса.\n",
      "\n",
      "!!!<critic_answ_2>!!!:\n",
      "Мне кажется, что вариант ответа \"Кирил и Мефодий\" не является правильным ответом на этот вопрос. Во-первых, название \"Кирил и Мефодий\" не начинается с греческого слова, обозначающего круг. Название организации происходит от имен двух братьев-миссионеров, а не от греческого слова \"κύκλος\" (kyklos), обозначающего круг.\n",
      "\n",
      "Во-вторых, связь между названием \"Кирил и Мефодий\" и греческим словом \"κύκλος\" (kyklos) является очень косвенной и неубедительной. Хотя Кирил и Мефодий использовали круг как символ единства и равенства в своих учениях, это не означает, что название организации начинается с греческого слова, обозначающего круг.\n",
      "\n",
      "Кроме того, организация \"Кирил и Мефодий\" не является кланом, а является исторической организацией, связанной с христианством и славянской культурой. Тема вопроса - \"Кланы\", и ответ должен быть связан с кланами, а не с историческими организациями.\n",
      "\n",
      "В заключении, вариант ответа \"Кирил и Мефодий\" не является правильным ответом на этот вопрос, поскольку не соответствует критериям вопроса и не имеет прямой связи с темой кланов.\n",
      "\n",
      "!!!<suggester_answ_3>!!!:\n",
      "Мой вариант ответа: \"Киклос\".\n",
      "\n",
      "Обоснование: Киклос - это греческое слово, обозначающее круг. В контексте кланов, Киклос может быть названием организации, которая использует круг как символ единства и равенства среди своих членов. Название \"Киклос\" напрямую происходит от греческого слова \"κύκλος\" (kyklos), что соответствует критериям вопроса.\n",
      "\n",
      "Кроме того, Киклос может быть названием клана, который ценит круговую структуру и коллективное принятие решений. Это соответствует теме кланов, которая подчеркивает важность семейных и родственных связей.\n",
      "\n",
      "В отличие от предыдущих вариантов, мой ответ \"Киклос\" не имеет тех же критических замечаний. Название \"Киклос\" начинается с греческого слова \"κύκλος\" (kyklos), что означает круг, и соответствует критериям вопроса.\n",
      "\n",
      "В заключении, мой вариант ответа \"Киклос\" является более убедительным и соответствует критериям вопроса.\n",
      "\n",
      "!!!<critic_answ_3>!!!:\n",
      "Критика:\n",
      "\n",
      "Хотя вариант ответа \"Киклос\" и соответствует критериям вопроса, поскольку действительно начинается с греческого слова, обозначающего круг, он не учитывает контекст кланов и организаций. Вопрос явно указывает на то, что организация должна быть достаточно известной или значимой, чтобы иметь собственное название, связанное с греческим словом для круга.\n",
      "\n",
      "Киклос - это просто греческое слово, обозначающее круг, но оно не является названием какой-либо известной организации или клана. Вариант ответа другого участника не предоставляет никаких доказательств или примеров того, что Киклос действительно является названием организации, соответствующей теме кланов.\n",
      "\n",
      "Кроме того, если бы вопрос действительно имел в виду Киклос как правильный ответ, он был бы слишком простым и очевидным. Вопросы в игре \"Что? Где? Когда?\" обычно требуют более глубокого понимания предмета и не ограничиваются простым переводом слов.\n",
      "\n",
      "Поэтому я считаю, что вариант ответа \"Киклос\" слишком упрощен и не соответствует сложности и глубине вопросов в игре \"Что? Где? Когда?\".\n",
      "\n",
      "!!!<captain_answ>!!!:\n",
      "Итак, давайте суммируем все ответы и критику на них:\n",
      "\n",
      "1. **Ответ 0й: Ку-клукс-клан**. Критика: нет возражений, но и нет обоснования.\n",
      "2. **Ответ 1й: Круглый стол**. Обоснование: название организации происходит от греческого слова \"κύκλος\" (kyklos), обозначающего круг. Критика: название не начинается с греческого слова \"κύκλος\", а является переводом на русский язык.\n",
      "3. **Ответ 2й: Кирил и Мефодий**. Обоснование: название организации происходит от греческого слова \"Κύριλλος\" (Kyrios), обозначающего Господа или круг. Критика: название не начинается с греческого слова, обозначающего круг, и не имеет прямой связи с темой кланов.\n",
      "4. **Ответ 3й: Киклос**. Обоснование: название организации напрямую происходит от греческого слова \"κύκλος\" (kyklos), обозначающего круг. Критика: вариант ответа слишком упрощен и не соответствует сложности и глубине вопросов в игре \"Что? Где? Когда?\".\n",
      "\n",
      "После анализа всех ответов и критики, я считаю, что **Ответ 0й: Ку-клукс-клан** вероятнее всего является правильным. Хотя нет обоснования для этого ответа, он не имеет явных критических замечаний, в отличие от других вариантов. Кроме того, Ку-клукс-клан - это известная организация, которая соответствует теме кланов.\n",
      "\n",
      "Название \"Ку-клукс-клан\" может быть связано с греческим словом \"κύκλος\" (kyklos), обозначающим круг, что соответствует критериям вопроса. Кроме того, Ку-клукс-клан - это реальная организация, существовавшая в истории, что делает этот ответ более убедительным, чем другие варианты.\n",
      "\n",
      "!!!<envoy_answ>!!!:\n",
      "Ку-клукс-клан\n"
     ]
    },
    {
     "data": {
      "text/plain": [
       "'Ку-клукс-клан'"
      ]
     },
     "execution_count": 63,
     "metadata": {},
     "output_type": "execute_result"
    }
   ],
   "source": [
    "await async_ask_multiagent_v0(df, 4, verbose=True, logId='miltiagentSuggesterCritic')"
   ]
  },
  {
   "cell_type": "markdown",
   "id": "e4718661-955d-4fdd-ae24-98d971e9e116",
   "metadata": {},
   "source": [
    "Took about 3 minutes"
   ]
  },
  {
   "cell_type": "code",
   "execution_count": 148,
   "id": "cdb76fb8-e8a0-47a2-b103-29765c96efb9",
   "metadata": {
    "execution": {
     "iopub.execute_input": "2024-08-10T13:25:02.822746Z",
     "iopub.status.busy": "2024-08-10T13:25:02.821503Z",
     "iopub.status.idle": "2024-08-10T13:25:02.911988Z",
     "shell.execute_reply": "2024-08-10T13:25:02.911233Z",
     "shell.execute_reply.started": "2024-08-10T13:25:02.822709Z"
    },
    "tags": []
   },
   "outputs": [
    {
     "data": {
      "text/plain": [
       "['Бэби-боксы',\n",
       " '\"Любовь земная\"',\n",
       " 'Сарданапал',\n",
       " 'Молчание',\n",
       " 'Ку-клукс-клан',\n",
       " 'Попы и студенты',\n",
       " 'Эпиграфами',\n",
       " 'Василий Суриков',\n",
       " 'Пять',\n",
       " 'Томас Мор',\n",
       " 'Мускатный',\n",
       " 'Пикассо',\n",
       " 'Соловей',\n",
       " 'Козьма Прутков',\n",
       " 'Черно-белый',\n",
       " 'Василий Перов',\n",
       " 'Казимир Малевич',\n",
       " 'Племена Хунну',\n",
       " '(Николай) Щорс',\n",
       " 'Цвет',\n",
       " 'Морские желуди',\n",
       " '\"Огненные колесницы\"',\n",
       " 'Груша',\n",
       " 'Свободно',\n",
       " 'Ездила на нем',\n",
       " 'Sfumato',\n",
       " 'Партия',\n",
       " 'Прадо',\n",
       " 'А.П. Чехов',\n",
       " 'Siri',\n",
       " 'КРУПП',\n",
       " 'Мацуо БАСЁ',\n",
       " '\"Сын человеческий\"',\n",
       " 'Царевна Софья',\n",
       " '\"(Святой) Пантелеймон\"',\n",
       " 'Эдгар Аллан По',\n",
       " 'Парики',\n",
       " 'СОЛЬ-ИЛЕЦК',\n",
       " 'Собачья конура',\n",
       " 'Родимое пятно',\n",
       " 'Канада',\n",
       " '\"СТЯУА\"',\n",
       " 'Южная Корея',\n",
       " 'Медь и олово',\n",
       " 'Интеллидженс Сервис',\n",
       " 'Полицейских',\n",
       " 'Устроили Танец живота',\n",
       " 'Л.Н.Толстой',\n",
       " 'эскалатор',\n",
       " 'Стрельбище']"
      ]
     },
     "execution_count": 148,
     "metadata": {},
     "output_type": "execute_result"
    }
   ],
   "source": [
    "list(df_to_eval.outputs[:50])"
   ]
  },
  {
   "cell_type": "markdown",
   "id": "e6bf4d12-3b04-44c3-8713-a59c14e7b04c",
   "metadata": {
    "execution": {
     "iopub.execute_input": "2024-08-09T11:49:26.871911Z",
     "iopub.status.busy": "2024-08-09T11:49:26.871161Z",
     "iopub.status.idle": "2024-08-09T11:49:26.881220Z",
     "shell.execute_reply": "2024-08-09T11:49:26.880459Z",
     "shell.execute_reply.started": "2024-08-09T11:49:26.871883Z"
    }
   },
   "source": [
    "With `max_sync = 100` took 23 minutes, some predictions failed. Metrics were 0.38/0.11  \n",
    "With `max_sync = 32` took 50 minutes, some predictions failed. Metrics were 0.38/0.11"
   ]
  },
  {
   "cell_type": "code",
   "execution_count": 37,
   "id": "8288022e-db85-448d-b262-95ba503c5229",
   "metadata": {
    "tags": []
   },
   "outputs": [
    {
     "name": "stdout",
     "output_type": "stream",
     "text": [
      "Prediction timed out.\n",
      "Prediction timed out.\n",
      "f1 0.37709266725555196; EM: {'exact_match': 0.11}\n"
     ]
    }
   ],
   "source": [
    "f1_score, em_score, responses_, f1_scores = await async_inference(df.iloc[:100, :], async_ask_multiagent_v0) "
   ]
  },
  {
   "cell_type": "markdown",
   "id": "2c2166c3-9cc2-4041-bda7-4d100779efe1",
   "metadata": {},
   "source": [
    "## Do step-by-step"
   ]
  },
  {
   "cell_type": "code",
   "execution_count": 74,
   "id": "e38d62cb-31df-4f8e-9ac3-c4461a589bd4",
   "metadata": {
    "execution": {
     "iopub.execute_input": "2024-08-10T11:12:18.935361Z",
     "iopub.status.busy": "2024-08-10T11:12:18.934382Z",
     "iopub.status.idle": "2024-08-10T11:12:18.945593Z",
     "shell.execute_reply": "2024-08-10T11:12:18.945033Z",
     "shell.execute_reply.started": "2024-08-10T11:12:18.935328Z"
    },
    "tags": []
   },
   "outputs": [],
   "source": [
    "async def async_ask_step_by_step(df_, row_idx, verbose=False, logId=None):\n",
    "    quest = df_.instruction[row_idx].format(**df_.inputs[row_idx])\n",
    "    quest = quest.replace('\\nОтвет:', '')\n",
    "    quest += ' Обязательно пиши ответ только на русском языке. Приди к правильному ответу, рассуждая пошагово.\\\n",
    "        Проведя последовательное рассуждение, окончательный ответ в краткой форме пиши сразу после переноса строки.\\\n",
    "        Не добавляй никаких дополнительных знаков пунктуации в конце.'\n",
    "    resp = await async_ask(quest, top_k=1)\n",
    "    \n",
    "    if verbose:\n",
    "        print(resp)\n",
    "    if logId is not None:\n",
    "        logDir = f'/home/jupyter/datasphere/project/log/{logId}'\n",
    "        os.makedirs(logDir, exist_ok=True)\n",
    "        with open(f'{logDir}/q{row_idx}.txt', 'w') as fwrite:\n",
    "            fwrite.write(f'<Qestion>: {quest}\\n<Response>: {resp}')\n",
    "    \n",
    "    resp = resp.split('\\n')[-1].strip()\n",
    "    return resp"
   ]
  },
  {
   "cell_type": "code",
   "execution_count": 66,
   "id": "693c08a0-2c3b-4b61-a4c4-6817b5c8822c",
   "metadata": {
    "execution": {
     "iopub.execute_input": "2024-08-09T16:19:30.747882Z",
     "iopub.status.busy": "2024-08-09T16:19:30.746902Z",
     "iopub.status.idle": "2024-08-09T16:19:38.745187Z",
     "shell.execute_reply": "2024-08-09T16:19:38.744653Z",
     "shell.execute_reply.started": "2024-08-09T16:19:30.747853Z"
    },
    "tags": []
   },
   "outputs": [
    {
     "name": "stdout",
     "output_type": "stream",
     "text": [
      "Чтобы ответить на этот вопрос, нам нужно рассмотреть возможные организации, названия которых могут быть связаны с греческим словом, обозначающим круг. В греческом языке слово \"круг\" переводится как \"κύκλος\" (kyklos). Теперь нам нужно подумать о знаменитых организациях, чьи названия начинаются с части слова, связанного с кругом.\n",
      "\n",
      "Одна из наиболее известных организаций, которая приходит на ум, когда мы говорим о круге или чем-то круглом, - это \"Ку-Клукс-Клан\". Название этой организации начинается с \"Ку\", что может быть связано с греческим словом \"κύκλος\", обозначающим круг.\n",
      "\n",
      "Ку-Клукс-Клан\n"
     ]
    },
    {
     "data": {
      "text/plain": [
       "'Ку-Клукс-Клан'"
      ]
     },
     "execution_count": 66,
     "metadata": {},
     "output_type": "execute_result"
    }
   ],
   "source": [
    "await async_ask_step_by_step(df, 4, verbose=True)"
   ]
  },
  {
   "cell_type": "code",
   "execution_count": 93,
   "id": "b5f95e98-5408-4711-a1d3-41e792fb0d16",
   "metadata": {
    "execution": {
     "iopub.execute_input": "2024-08-10T11:35:15.863223Z",
     "iopub.status.busy": "2024-08-10T11:35:15.862526Z",
     "iopub.status.idle": "2024-08-10T11:37:22.385597Z",
     "shell.execute_reply": "2024-08-10T11:37:22.385004Z",
     "shell.execute_reply.started": "2024-08-10T11:35:15.863193Z"
    },
    "tags": []
   },
   "outputs": [
    {
     "name": "stdout",
     "output_type": "stream",
     "text": [
      "f1 0.389422359045317; EM: {'exact_match': 0.13942307692307693}\n"
     ]
    }
   ],
   "source": [
    "f1_score, em_score, responses_, f1_scores = await async_inference(df.iloc[:, :], async_ask_step_by_step, logId=None) "
   ]
  },
  {
   "cell_type": "code",
   "execution_count": 103,
   "id": "3b0d5253-f66f-482d-8ec8-af1b64ed73d6",
   "metadata": {
    "execution": {
     "iopub.execute_input": "2024-08-10T12:11:34.358614Z",
     "iopub.status.busy": "2024-08-10T12:11:34.357687Z",
     "iopub.status.idle": "2024-08-10T12:11:34.386708Z",
     "shell.execute_reply": "2024-08-10T12:11:34.385598Z",
     "shell.execute_reply.started": "2024-08-10T12:11:34.358582Z"
    },
    "tags": []
   },
   "outputs": [],
   "source": [
    "async def async_ask_step_by_step_1(df_, row_idx, verbose=False, logId=None):\n",
    "    topic = df.inputs[row_idx].get('topic', '')\n",
    "    q = df.inputs[row_idx]['text']\n",
    "    player_q = 'Ты - участник игры \"Что? Где? Когда?\", и твоя задача ответить на заданный тебе вопрос по заданной теме.\\\n",
    "        \\nТема вопроса: {topic}\\nВопрос: {q}'.format(topic=topic, q=q)\n",
    "    player_q += '\\nОбоснуй свой ответ. Рассуждай шаг за шагом.'\n",
    "    resp = await async_ask(player_q, top_k=1)\n",
    "    if verbose:\n",
    "        print(f'Развернутый ответ:\\n{resp}')\n",
    "    \n",
    "    \n",
    "    envoy_q = 'Ты - участник команды в игре \"Что? Где? Когда?\". Тебе дан вопрос, тема вопроса и ответ капитана команды.\\\n",
    "        \\nТема вопроса: {topic}\\nВопрос: {q}\\nОтвет капитана команды {resp}'.format(topic=topic, q=q, resp=resp)\n",
    "    envoy_q += '\\nТвоя задача сформировать окончательный ответ команды в соответствии с ответом капитана.\\\n",
    "        Обязательно пиши ответ только на русском языке. Ответ должен быть кратким, без пояснений. \\\n",
    "        Не добавляй никаких дополнительных знаков пунктуации в начале и в конце.\\nОтвет: '\n",
    "    envoy_resp = await async_ask(envoy_q, top_k=1)\n",
    "    \n",
    "    if logId is not None:\n",
    "        logDir = f'/home/jupyter/datasphere/project/log/{logId}'\n",
    "        os.makedirs(logDir, exist_ok=True)\n",
    "        with open(f'{logDir}/q{row_idx}.txt', 'w') as fwrite:\n",
    "            fwrite.write(f'<Qestion>: {q}\\n<Response>: {resp}\\n<Envoy Response>: {envoy_resp}')\n",
    "    \n",
    "    return envoy_resp"
   ]
  },
  {
   "cell_type": "code",
   "execution_count": 104,
   "id": "46c43b3e-70ae-4ea7-bc65-a3074af80c75",
   "metadata": {
    "execution": {
     "iopub.execute_input": "2024-08-10T12:11:38.510269Z",
     "iopub.status.busy": "2024-08-10T12:11:38.509278Z",
     "iopub.status.idle": "2024-08-10T12:11:38.526887Z",
     "shell.execute_reply": "2024-08-10T12:11:38.526324Z",
     "shell.execute_reply.started": "2024-08-10T12:11:38.510242Z"
    },
    "tags": []
   },
   "outputs": [],
   "source": [
    "# await async_ask_step_by_step_1(df, 4, verbose=True, logId='StepByStep-2Shot')"
   ]
  },
  {
   "cell_type": "markdown",
   "id": "44007f0a-9d05-42f2-a59a-1caf05793a3b",
   "metadata": {},
   "source": [
    "All 400 questions took about 4 minutes!"
   ]
  },
  {
   "cell_type": "code",
   "execution_count": 106,
   "id": "ec4018ec-3bb0-47c3-84a5-66d39eb426e2",
   "metadata": {
    "execution": {
     "iopub.execute_input": "2024-08-10T12:12:13.351048Z",
     "iopub.status.busy": "2024-08-10T12:12:13.350592Z",
     "iopub.status.idle": "2024-08-10T12:17:09.693687Z",
     "shell.execute_reply": "2024-08-10T12:17:09.692772Z",
     "shell.execute_reply.started": "2024-08-10T12:12:13.351018Z"
    },
    "tags": []
   },
   "outputs": [
    {
     "name": "stdout",
     "output_type": "stream",
     "text": [
      "f1 0.46159084307376297; EM: {'exact_match': 0.17067307692307693}\n"
     ]
    }
   ],
   "source": [
    "f1_score, em_score, responses_, f1_scores = await async_inference(df_to_eval.iloc[:, :], async_ask_step_by_step_1, logId=None)"
   ]
  },
  {
   "cell_type": "markdown",
   "id": "54c72d4a-e64a-4146-a8bb-bc622c7b63b0",
   "metadata": {},
   "source": [
    "## Extract info"
   ]
  },
  {
   "cell_type": "code",
   "execution_count": 98,
   "id": "b88a6c4d-c1e7-4717-bbd2-fc1a5706c1e8",
   "metadata": {
    "execution": {
     "iopub.execute_input": "2024-08-10T11:53:59.846855Z",
     "iopub.status.busy": "2024-08-10T11:53:59.845916Z",
     "iopub.status.idle": "2024-08-10T11:53:59.883923Z",
     "shell.execute_reply": "2024-08-10T11:53:59.883106Z",
     "shell.execute_reply.started": "2024-08-10T11:53:59.846826Z"
    },
    "tags": []
   },
   "outputs": [],
   "source": [
    "async def async_ask_extract_info(df_, row_idx, verbose=False, logId=None):\n",
    "    topic = df.inputs[row_idx].get('topic', '')\n",
    "    q = df.inputs[row_idx]['text']\n",
    "    player_q = 'Ты - участник команды в игре \"Что? Где? Когда?\", и твоя задача извлечь как можно больше информации об ответе,\\\n",
    "        содержащуюся в тексте заданного вопроса.\\nТема вопроса: {topic}\\nВопрос: {q}'.format(topic=topic, q=q)\n",
    "    player_q += '\\n\\nАнализируя вопрос, выдели из него как можно больше информации, относящейся к ответу.\\\n",
    "        Постараясй понять, состоит ли ответ из одного слова или нескольких, представляет ли он собой вещь, действие или свойство,\\\n",
    "        к какой временной эпохе он/оно может относится и так далее. Информация об ответе: '\n",
    "    player_resp = await async_ask(player_q, top_k=1)\n",
    "    if verbose:\n",
    "        print(f'Информация об ответе:\\n{player_resp}')\n",
    "    \n",
    "    \n",
    "    envoy_q = 'Ты - участник команды в игре \"Что? Где? Когда?\". Тебе дан вопрос, тема вопроса и информация об ответе, которая точно известна.\\\n",
    "        \\nТема вопроса: {topic}\\nВопрос: {q}\\nИнформация об ответе: {player_resp}'.format(topic=topic, q=q, player_resp=player_resp)\n",
    "    envoy_q += '\\nТвоя задача сформировать окончательный ответ команды в соответствии с полученной информацией.\\\n",
    "        Обязательно пиши ответ только на русском языке. Ответ должен быть кратким, без пояснений. \\\n",
    "        Не добавляй никаких дополнительных знаков пунктуации в начале и в конце.\\nОтвет: '\n",
    "    envoy_resp = await async_ask(envoy_q, top_k=1)\n",
    "    \n",
    "    if logId is not None:\n",
    "        logDir = f'/home/jupyter/datasphere/project/log/{logId}'\n",
    "        os.makedirs(logDir, exist_ok=True)\n",
    "        with open(f'{logDir}/q{row_idx}.txt', 'w') as fwrite:\n",
    "            fwrite.write(f'<Qestion>: {q}\\n<Player Response>: {player_resp}\\n<Envoy Response>: {envoy_resp}')\n",
    "    \n",
    "    return envoy_resp"
   ]
  },
  {
   "cell_type": "code",
   "execution_count": 99,
   "id": "5bb9273a-8004-42e5-a784-8a404322bb14",
   "metadata": {
    "execution": {
     "iopub.execute_input": "2024-08-10T11:54:00.771524Z",
     "iopub.status.busy": "2024-08-10T11:54:00.770835Z",
     "iopub.status.idle": "2024-08-10T11:54:16.442142Z",
     "shell.execute_reply": "2024-08-10T11:54:16.441521Z",
     "shell.execute_reply.started": "2024-08-10T11:54:00.771497Z"
    }
   },
   "outputs": [
    {
     "name": "stdout",
     "output_type": "stream",
     "text": [
      "Информация об ответе:\n",
      "Из вопроса можно извлечь следующую информацию об ответе:\n",
      "\n",
      "1. **Название организации**: Вопрос напрямую указывает на то, что ответом будет название какой-то организации.\n",
      "2. **Происхождение названия**: Название организации, вероятно, имеет греческие корни, поскольку упоминается, что оно происходит от греческого слова.\n",
      "3. **Значение греческого слова**: Греческое слово, от которого происходит название организации, обозначает \"круг\".\n",
      "4. **Версия происхождения**: Упоминается \"по одной из версий\", что означает, что существует несколько теорий о происхождении названия этой организации, и данная информация не является единственной или абсолютно подтверждённой.\n",
      "5. **Отсутствие конкретной временной эпохи**: Вопрос не содержит информации, которая бы конкретно указывала на временную эпоху, к которой относится организация. Однако, учитывая, что упоминается греческое слово, можно предположить, что организация, возможно, имеет исторические корни или была основана под влиянием древнегреческой культуры.\n",
      "6. **Отсутствие указаний на конкретную деятельность или свойства**: Вопрос не содержит информации о том, чем занимается эта организация или какие свойства она имеет, кроме происхождения её названия.\n",
      "\n",
      "В целом, ответ, скорее всего, будет состоять из одного или нескольких слов, представляющих название организации, которая, возможно, имеет историческое или культурное значение, связанное с древнегреческой культурой.\n"
     ]
    },
    {
     "data": {
      "text/plain": [
       "'Круглый стол'"
      ]
     },
     "execution_count": 99,
     "metadata": {},
     "output_type": "execute_result"
    }
   ],
   "source": [
    "await async_ask_extract_info(df, 4, verbose=True, logId='ExtractInfo')"
   ]
  },
  {
   "cell_type": "markdown",
   "id": "1718adc9-7f54-467c-b404-95723603666b",
   "metadata": {},
   "source": [
    "All 400 questions took about 4 minutes!"
   ]
  },
  {
   "cell_type": "code",
   "execution_count": 102,
   "id": "f3341fa6-25a4-483b-85c9-b03a19ad72a8",
   "metadata": {
    "execution": {
     "iopub.execute_input": "2024-08-10T11:55:51.408097Z",
     "iopub.status.busy": "2024-08-10T11:55:51.407156Z",
     "iopub.status.idle": "2024-08-10T11:59:44.728484Z",
     "shell.execute_reply": "2024-08-10T11:59:44.727799Z",
     "shell.execute_reply.started": "2024-08-10T11:55:51.408067Z"
    },
    "tags": []
   },
   "outputs": [
    {
     "name": "stdout",
     "output_type": "stream",
     "text": [
      "f1 0.4759305627001803; EM: {'exact_match': 0.23076923076923078}\n"
     ]
    }
   ],
   "source": [
    "f1_score, em_score, responses_, f1_scores = await async_inference(df_to_eval.iloc[:, :], async_ask_extract_info, logId=None)"
   ]
  },
  {
   "cell_type": "markdown",
   "id": "17c1e81d-fb88-42a0-9329-b17faef3f218",
   "metadata": {},
   "source": [
    "## Self-Consistency"
   ]
  },
  {
   "cell_type": "code",
   "execution_count": 48,
   "id": "19f1763a-7b07-4dc8-9894-3f7a962219ea",
   "metadata": {
    "execution": {
     "iopub.execute_input": "2024-08-10T19:07:58.884202Z",
     "iopub.status.busy": "2024-08-10T19:07:58.883173Z",
     "iopub.status.idle": "2024-08-10T19:07:58.906310Z",
     "shell.execute_reply": "2024-08-10T19:07:58.905692Z",
     "shell.execute_reply.started": "2024-08-10T19:07:58.884176Z"
    },
    "tags": []
   },
   "outputs": [],
   "source": [
    "from collections import Counter\n",
    "\n",
    "\n",
    "def async_get_SC(num_of_attempts=10):\n",
    "    async def ask_func(df_, row_idx, verbose=False, logId=None):\n",
    "        topic = df_.inputs[row_idx].get('topic', '')\n",
    "        q = df_.inputs[row_idx]['text']\n",
    "        player_q = 'Ты - участник игры \"Что? Где? Когда?\", и твоя задача ответить на заданный тебе вопрос по заданной теме.\\\n",
    "            \\nТема вопроса: {topic}\\nВопрос: {q}'.format(topic=topic, q=q)\n",
    "        player_q += '\\nОбоснуй свой ответ. Рассуждай шаг за шагом.'\n",
    "        answers = []\n",
    "        \n",
    "        for _ in range(num_of_attempts):\n",
    "            resp = await async_ask(player_q)\n",
    "            if verbose:\n",
    "                print(f'Развернутый ответ:\\n{resp}')\n",
    "\n",
    "            envoy_q = 'Ты - участник команды в игре \"Что? Где? Когда?\". Тебе дан вопрос, тема вопроса и ответ капитана команды.\\\n",
    "                \\nТема вопроса: {topic}\\nВопрос: {q}\\nОтвет капитана команды {resp}'.format(topic=topic, q=q, resp=resp)\n",
    "            envoy_q += '\\nТвоя задача сформировать окончательный ответ команды в соответствии с ответом капитана.\\\n",
    "                Обязательно пиши ответ только на русском языке. Ответ должен быть кратким, без пояснений. \\\n",
    "                Не добавляй никаких дополнительных знаков пунктуации в начале и в конце.\\nОтвет: '\n",
    "            envoy_resp = await async_ask(envoy_q, top_k=1, clear=True)\n",
    "            \n",
    "            answers.append((resp, envoy_resp))\n",
    "\n",
    "        counter = Counter([short for _, short in answers])\n",
    "        max_count = 1\n",
    "        best_answ = answers[0][1]\n",
    "        for answ, cnt in counter.items():\n",
    "            if cnt > max_count:\n",
    "                best_answ = answ\n",
    "                max_count = cnt\n",
    "        \n",
    "        if logId is not None:\n",
    "            logDir = f'/home/jupyter/datasphere/project/log/{logId}'\n",
    "            os.makedirs(logDir, exist_ok=True)\n",
    "            with open(f'{logDir}/q{row_idx}.txt', 'w') as fwrite:\n",
    "                fwrite.write(f'<Qestion>: {q}\\n')\n",
    "                for i, (long, short) in enumerate(answers):\n",
    "                    fwrite.write(f'\\n<Response {i}>: {long}')\n",
    "                    fwrite.write(f'\\n<Envoy Response {i}>: {short}')\n",
    "                fwrite.write(f'<Final answer>: {best_answ}')\n",
    "\n",
    "        return best_answ\n",
    "    \n",
    "    return ask_func"
   ]
  },
  {
   "cell_type": "code",
   "execution_count": 45,
   "id": "280d6dff-ea1b-4514-bbc7-c726363ddbaf",
   "metadata": {
    "execution": {
     "iopub.execute_input": "2024-08-10T19:06:30.304751Z",
     "iopub.status.busy": "2024-08-10T19:06:30.304070Z",
     "iopub.status.idle": "2024-08-10T19:06:30.351856Z",
     "shell.execute_reply": "2024-08-10T19:06:30.351116Z",
     "shell.execute_reply.started": "2024-08-10T19:06:30.304726Z"
    },
    "tags": []
   },
   "outputs": [],
   "source": [
    "async_ask_sc4 = async_get_SC(4)"
   ]
  },
  {
   "cell_type": "code",
   "execution_count": 46,
   "id": "d7d13b6f-3418-4af6-b2d9-50dc671fcb1e",
   "metadata": {
    "execution": {
     "iopub.execute_input": "2024-08-10T19:06:31.139898Z",
     "iopub.status.busy": "2024-08-10T19:06:31.139224Z",
     "iopub.status.idle": "2024-08-10T19:07:51.690463Z",
     "shell.execute_reply": "2024-08-10T19:07:51.689582Z",
     "shell.execute_reply.started": "2024-08-10T19:06:31.139874Z"
    },
    "tags": []
   },
   "outputs": [
    {
     "name": "stdout",
     "output_type": "stream",
     "text": [
      "Развернутый ответ:\n",
      "Хорошая цитата от древнего мудреца! Давайте разберемся с этим вопросом шаг за шагом.\n",
      "\n",
      "Сначала, давайте проанализируем данную информацию: \"Мудрость состоит из 10 частей. Одна часть — знания и опыт.\" Это означает, что знания и опыт составляют всего лишь одну десятую часть мудрости.\n",
      "\n",
      "Теперь, нам нужно определить, что составляет остальные девять частей. Поскольку мы говорим о восточной мудрости, давайте рассмотрим некоторые ключевые концепции, которые часто ассоциируются с восточным мышлением.\n",
      "\n",
      "Одной из важных концепций восточной философии является идея о том, что мудрость включает в себя не только знания, но и духовное понимание и осознание. Восточные мудрецы часто подчеркивают важность самопознания, интуиции и внутреннего спокойствия.\n",
      "\n",
      "Другая важная концепция — это идея о том, что мудрость связана с гармонией и балансом. Восточные философы часто говорят о необходимости найти баланс между противоположными силами, такими как инь и ян, или о том, чтобы жить в гармонии с природой.\n",
      "\n",
      "Учитывая эти концепции, можно предположить, что остальные девять частей мудрости могут состоять из следующих элементов:\n",
      "\n",
      "* Самопознание и интуиция\n",
      "* Духовное понимание и осознание\n",
      "* Внутреннее спокойствие и баланс\n",
      "* Гармония с природой и окружающим миром\n",
      "* Способность управлять своими эмоциями и желаниями\n",
      "* Умение принимать решения, основанные на мудрости и интуиции\n",
      "* Способность общаться с другими людьми с пониманием и сочувствием\n",
      "* Умение прощать и отпускать негативные эмоции\n",
      "* Способность жить в настоящем моменте и наслаждаться простыми вещами\n",
      "\n",
      "Конечно, это всего лишь одно возможное толкование, и разные люди могут иметь разные мнения на этот счет. Однако, основываясь на восточной философии\n",
      "Развернутый ответ:\n",
      "Чтобы ответить на этот вопрос, нам нужно понять контекст и возможные интерпретации высказывания древнего мудреца Рюхейб-бин-Верда. Поскольку точный источник или исторический контекст этого высказывания не предоставлен, мы можем только сделать обоснованные предположения, основанные на общих представлениях о мудрости и философских взглядах, распространённых в древних восточных учениях.\n",
      "\n",
      "1. **Анализ высказывания**: Высказывание гласит, что мудрость состоит из 10 частей, и только одна часть составляет знания и опыт. Это подразумевает, что знания и опыт, хотя и важны, составляют лишь небольшую часть того, что считается мудростью.\n",
      "\n",
      "2. **Философские и культурные контексты**: Во многих восточных философских традициях, таких как буддизм, даосизм и суфизм, мудрость часто связана не только со знаниями и опытом, но и с пониманием природы реальности, этическим поведением, самосознанием, состраданием и способностью видеть вещи такими, какие они есть на самом деле.\n",
      "\n",
      "3. **Возможные составляющие мудрости**: Если одна часть — это знания и опыт, то оставшиеся девять частей, вероятно, включают в себя качества и аспекты, которые способствуют более глубокому пониманию жизни и более гармоничному существованию в мире. Это могут быть:\n",
      "   - **Самосознание и самопознание**: Понимание себя, своих мотивов и эмоций.\n",
      "   - **Эмпатия и сострадание**: Способность понимать и сопереживать другим.\n",
      "   - **Этичность и моральность**: Знание того, что правильно и что неправильно, и действие в соответствии с этим.\n",
      "   - **Смирение**: Признание ограниченности своего знания и открытость к учению.\n",
      "   - **Мудрость сердца**: Способность принимать решения, исходя не только из логики, но и из интуиции и эмоционального интеллекта.\n",
      "   - **\n",
      "Развернутый ответ:\n",
      "Отличный вопрос! Давайте разберем его шаг за шагом.\n",
      "\n",
      "Во-первых, мы знаем, что вопрос относится к теме \"Восток - дело тонкое\", которая предполагает связь с восточной философией или культурой.\n",
      "\n",
      "Во-вторых, мы видим, что цитата принадлежит древнему мудрецу Рюхейб-бин-Верда. К сожалению, я не смог найти информацию об этом конкретном мудреце, но имя имеет арабский или персидский оттенок, что подтверждает восточную тематику.\n",
      "\n",
      "Теперь давайте проанализируем саму цитату: \"Мудрость состоит из 10 частей. Одна часть — знания и опыт.\" Это говорит нам о том, что мудрость не только включает в себя знания и опыт, но и состоит из других важных компонентов.\n",
      "\n",
      "Итак, что же составляет остальные девять частей мудрости? В восточной философии, особенно в суфизме и буддизме, мудрость часто связана с понятиями, такими как интуиция, осознанность, самопознание, смирение, сострадание, терпимость и умение видеть вещи в перспективе.\n",
      "\n",
      "На основе этих идей я бы предположил, что остальные девять частей мудрости могут включать в себя:\n",
      "\n",
      "1. Интуицию: способность понимать вещи инстинктивно, без необходимости логических рассуждений.\n",
      "2. Осознанность: способность быть полностью присутствующим в текущем моменте, без отвлечений и мыслей о прошлом или будущем.\n",
      "3. Самопознание: понимание своих собственных мыслей, эмоций и мотиваций.\n",
      "4. Смирение: способность признать свои ограничения и не претендовать на абсолютную истину.\n",
      "5. Сострадание: способность сопереживать другим и понимать их точку зрения.\n",
      "6. Терпимость: способность принять разнообразие мнений и точек зрения.\n",
      "7. Умение видеть вещи в перспективе: способность рассматривать вещи\n",
      "Развернутый ответ:\n",
      "Ответ: Молчание.\n",
      "\n",
      "Обоснование: Вопрос основан на древней восточной мудрости, которая часто подчеркивает важность молчания и сдержанности. В восточной философии и культуре молчание часто рассматривается как ключевой аспект мудрости, поскольку оно позволяет людям слушать, наблюдать и размышлять, прежде чем действовать или говорить.\n",
      "\n",
      "Рюхейб-бин-Верда, вероятно, является вымышленным или неизвестным персонажем, но цитата, приписываемая ему, имеет под собой основу в восточной философии. Идея о том, что мудрость состоит из 10 частей, и только одна из них — знания и опыт, предполагает, что остальные девять частей — это нечто более тонкое и неосязаемое.\n",
      "\n",
      "Молчание как ответ имеет смысл в контексте восточной философии, поскольку оно позволяет людям развивать такие качества, как терпение, смирение и осознанность. Молчание также позволяет людям избежать ненужных конфликтов, сохранять спокойствие в трудных ситуациях и более глубоко понимать себя и окружающий мир.\n",
      "\n",
      "Следовательно, обоснованный ответ на вопрос — молчание.\n"
     ]
    },
    {
     "data": {
      "text/plain": [
       "'Самопознание и интуиция, духовное понимание и осознание, внутреннее спокойствие и баланс, гармония с природой и окружающим миром, способность управлять своими эмоциями и желаниями, умение принимать решения, основанные на мудрости и интуиции, способность общаться с другими людьми с пониманием и сочувствием, умение прощать и отпускать негативные эмоции, способность жить в настоящем моменте и наслаждаться простыми вещами.'"
      ]
     },
     "execution_count": 46,
     "metadata": {},
     "output_type": "execute_result"
    }
   ],
   "source": [
    "await async_ask_sc4(df_to_eval, 3, verbose=True, logId='SelfConsistence7')"
   ]
  },
  {
   "cell_type": "markdown",
   "id": "ed7badc2-4f7b-46a0-ba06-d657cba25354",
   "metadata": {},
   "source": [
    "Started 10/8 17:02, finished ?"
   ]
  },
  {
   "cell_type": "code",
   "execution_count": 49,
   "id": "8c91e4dd-c761-42b7-accc-79b7963d93a4",
   "metadata": {
    "execution": {
     "iopub.execute_input": "2024-08-10T19:09:25.408624Z",
     "iopub.status.busy": "2024-08-10T19:09:25.407623Z",
     "iopub.status.idle": "2024-08-10T19:22:54.281228Z",
     "shell.execute_reply": "2024-08-10T19:22:54.280610Z",
     "shell.execute_reply.started": "2024-08-10T19:09:25.408600Z"
    },
    "tags": []
   },
   "outputs": [
    {
     "name": "stdout",
     "output_type": "stream",
     "text": [
      "\n",
      "Prediction interrupted; please retry (code: PA)\n",
      "f1 0.47422746196793586; EM: {'exact_match': 0.23317307692307693}\n"
     ]
    }
   ],
   "source": [
    "f1_score, em_score, responses_, f1_scores = await async_inference(df_to_eval.iloc[:, :], async_get_SC(4), logId='SelfConsistence4')"
   ]
  },
  {
   "cell_type": "markdown",
   "id": "45586bcc-b090-4933-83c3-107ba2cfe621",
   "metadata": {},
   "source": [
    "Started 10/8 ?, finished 10/8 ?"
   ]
  },
  {
   "cell_type": "markdown",
   "id": "1da11c5a-5c8e-42f7-a284-ac9ac1c8253c",
   "metadata": {},
   "source": [
    "## Suggester-Discriminator"
   ]
  },
  {
   "cell_type": "code",
   "execution_count": 53,
   "id": "5a0f9075-f957-45e2-ab2a-4641bf7e6749",
   "metadata": {
    "execution": {
     "iopub.execute_input": "2024-08-10T19:24:36.655502Z",
     "iopub.status.busy": "2024-08-10T19:24:36.654645Z",
     "iopub.status.idle": "2024-08-10T19:24:36.669711Z",
     "shell.execute_reply": "2024-08-10T19:24:36.669156Z",
     "shell.execute_reply.started": "2024-08-10T19:24:36.655477Z"
    },
    "tags": []
   },
   "outputs": [],
   "source": [
    "def async_get_suggest_discrim(threshold=8, max_attempts=7):\n",
    "    async def ask_func(df_, row_idx, verbose=False, logId=None):\n",
    "        topic = df_.inputs[row_idx].get('topic', '')\n",
    "        q = df_.inputs[row_idx]['text']\n",
    "        suggester_q = 'Ты - участник игры \"Что? Где? Когда?\", и твоя задача ответить на заданный тебе вопрос по заданной теме.\\\n",
    "            \\nТема вопроса: {topic}\\nВопрос: {q}'.format(topic=topic, q=q)\n",
    "        suggester_q += '\\nОбоснуй свой ответ. Рассуждай шаг за шагом.'\n",
    "        answers = []\n",
    "        \n",
    "        for _ in range(max_attempts):\n",
    "            resp = await async_ask(suggester_q)\n",
    "            if verbose:\n",
    "                print(f'<Развернутый ответ>:\\n{resp}')\n",
    "\n",
    "            discriminator_q = 'Ты - участник команды в игре \"Что? Где? Когда?\". Тебе дан вопрос, тема вопроса и ответ другого участника.\\\n",
    "                \\nТема вопроса: {topic}\\nВопрос: {q}\\nОтвет другого участника {resp}'.format(topic=topic, q=q, resp=resp)\n",
    "            discriminator_q += '\\nКак ты считаешь, является ли предложенный ответ на вопрос правильным или нет? \\\n",
    "                Оцени вероятность правильности ответа по шкале от 0 до 10, где 0 - точно неправильно и 10 - точно правильно.\\\n",
    "                В ответ пиши только одну цифру.'\n",
    "            discriminator_resp = await async_ask(discriminator_q, top_k=1)\n",
    "            try:\n",
    "                rating = int(''.join(c for c in discriminator_resp if c in '0123456789'))\n",
    "                answers.append((resp, rating))\n",
    "                if verbose:\n",
    "                    print(f'<Descriminator rating>:\\n{resp}')\n",
    "                if rating >= threshold:\n",
    "                    break\n",
    "            except:\n",
    "                print(f'Not a number was returned as a rating value: {discriminator_resp}')\n",
    "        \n",
    "        if answers[-1][1] < threshold:\n",
    "            max_rating = -np.inf\n",
    "            for answ, rating in answers:\n",
    "                if rating > max_rating:\n",
    "                    max_rating = rating\n",
    "                    best_answ = answ\n",
    "        else:\n",
    "            best_answ = answers[-1][0]\n",
    "        \n",
    "        envoy_q = 'Ты - участник команды в игре \"Что? Где? Когда?\". Тебе дан вопрос, тема вопроса и ответ капитана команды.\\\n",
    "            \\nТема вопроса: {topic}\\nВопрос: {q}\\nОтвет капитана команды {best_answ}'.format(topic=topic, q=q, best_answ=best_answ)\n",
    "        envoy_q += '\\nТвоя задача сформировать окончательный ответ команды в соответствии с ответом капитана.\\\n",
    "            Обязательно пиши ответ только на русском языке. Ответ должен быть кратким, без пояснений. \\\n",
    "            Не добавляй никаких дополнительных знаков пунктуации в начале и в конце.\\nОтвет: '\n",
    "        envoy_resp = await async_ask(envoy_q, top_k=1, clear=True)\n",
    "        \n",
    "        if logId is not None:\n",
    "            logDir = f'/home/jupyter/datasphere/project/log/{logId}'\n",
    "            os.makedirs(logDir, exist_ok=True)\n",
    "            with open(f'{logDir}/q{row_idx}.txt', 'w') as fwrite:\n",
    "                fwrite.write(f'<Qestion>: {q}\\n')\n",
    "                for i, (resp, rating) in enumerate(answers):\n",
    "                    fwrite.write(f'\\n<Response {i}>: {resp}')\n",
    "                    fwrite.write(f'\\n<Rating {i}>: {rating}')\n",
    "                fwrite.write(f'<Final answer>: {envoy_resp}')\n",
    "\n",
    "        return envoy_resp\n",
    "    \n",
    "    return ask_func"
   ]
  },
  {
   "cell_type": "code",
   "execution_count": 54,
   "id": "a28caa0d-2499-4b7a-9983-cb8eb9aa028f",
   "metadata": {
    "execution": {
     "iopub.execute_input": "2024-08-10T19:24:40.691388Z",
     "iopub.status.busy": "2024-08-10T19:24:40.690562Z",
     "iopub.status.idle": "2024-08-10T19:24:40.699488Z",
     "shell.execute_reply": "2024-08-10T19:24:40.698938Z",
     "shell.execute_reply.started": "2024-08-10T19:24:40.691363Z"
    },
    "tags": []
   },
   "outputs": [],
   "source": [
    "async_ask_sd_9_7 = async_get_suggest_discrim(threshold=9)"
   ]
  },
  {
   "cell_type": "code",
   "execution_count": 45,
   "id": "4ecb0d9e-0bdd-450e-a056-f8d15a341c5d",
   "metadata": {
    "execution": {
     "iopub.execute_input": "2024-08-10T14:20:33.930490Z",
     "iopub.status.busy": "2024-08-10T14:20:33.929622Z",
     "iopub.status.idle": "2024-08-10T14:22:35.377422Z",
     "shell.execute_reply": "2024-08-10T14:22:35.376742Z",
     "shell.execute_reply.started": "2024-08-10T14:20:33.930461Z"
    },
    "tags": []
   },
   "outputs": [
    {
     "name": "stdout",
     "output_type": "stream",
     "text": [
      "<Развернутый ответ>:\n",
      "Чтобы ответить на этот вопрос нам нужно проанализировать тему Бэби и понять как она связана со средневековыми аналогами и вращающейся дверью\n",
      "\n",
      "Шаг 1 Анализ темы Бэби\n",
      "Тема Бэби обычно ассоциируется с младенцами или маленькими детьми Однако учитывая контекст вопроса мы можем предположить что Бэби может быть также сокращением или прозвищем для чегото другого\n",
      "\n",
      "Шаг 2 Средневековые аналоги\n",
      "Средневековые аналоги подразумевают существование чегото в Средние века которое имеет сходство или аналогичные черты с предметом вопроса\n",
      "\n",
      "Шаг 3 Вращающаяся дверь\n",
      "Вращающаяся дверь  это ключевой элемент конструкции упомянутый в вопросе Вращающиеся двери часто используются в архитектуре для создания удобного входа и выхода\n",
      "\n",
      "Шаг 4 Связь между Бэби и средневековыми аналогами с вращающейся дверью\n",
      "После анализа темы и элементов вопроса можно сделать предположение что Бэби может быть прозвищем или сокращением для некоторого типа конструкции или устройства которое использовалось в Средние века и имело вращающуюся дверь\n",
      "\n",
      "Ответ Одним из возможных ответов на этот вопрос может быть люлька или колыбель но более вероятным ответом является турникет или вертушка в крепостных воротах который защищал вход в замок и имел вращающуюся дверь Однако это не совсем точно соответствует теме Бэби\n",
      "\n",
      "Другой возможный ответ  это Бэбибокс или окно жизни но они не имеют прямого отношения к средневековым аналогам с вращающейся дверью\n",
      "\n",
      "После более глубокого анализа я нашел ещё один возможный ответ Бэби может быть прозвищем для Бастион или Баш\n",
      "<Descriminator rating>:\n",
      "Чтобы ответить на этот вопрос нам нужно проанализировать тему Бэби и понять как она связана со средневековыми аналогами и вращающейся дверью\n",
      "\n",
      "Шаг 1 Анализ темы Бэби\n",
      "Тема Бэби обычно ассоциируется с младенцами или маленькими детьми Однако учитывая контекст вопроса мы можем предположить что Бэби может быть также сокращением или прозвищем для чегото другого\n",
      "\n",
      "Шаг 2 Средневековые аналоги\n",
      "Средневековые аналоги подразумевают существование чегото в Средние века которое имеет сходство или аналогичные черты с предметом вопроса\n",
      "\n",
      "Шаг 3 Вращающаяся дверь\n",
      "Вращающаяся дверь  это ключевой элемент конструкции упомянутый в вопросе Вращающиеся двери часто используются в архитектуре для создания удобного входа и выхода\n",
      "\n",
      "Шаг 4 Связь между Бэби и средневековыми аналогами с вращающейся дверью\n",
      "После анализа темы и элементов вопроса можно сделать предположение что Бэби может быть прозвищем или сокращением для некоторого типа конструкции или устройства которое использовалось в Средние века и имело вращающуюся дверь\n",
      "\n",
      "Ответ Одним из возможных ответов на этот вопрос может быть люлька или колыбель но более вероятным ответом является турникет или вертушка в крепостных воротах который защищал вход в замок и имел вращающуюся дверь Однако это не совсем точно соответствует теме Бэби\n",
      "\n",
      "Другой возможный ответ  это Бэбибокс или окно жизни но они не имеют прямого отношения к средневековым аналогам с вращающейся дверью\n",
      "\n",
      "После более глубокого анализа я нашел ещё один возможный ответ Бэби может быть прозвищем для Бастион или Баш\n",
      "<Развернутый ответ>:\n",
      "Чтобы ответить на этот вопрос давайте проанализируем тему Бэби и предоставленный вопрос\n",
      "\n",
      "Шаг 1 Тема Бэби предполагает что вопрос может быть связан с младенцами или детьми\n",
      "\n",
      "Шаг 2 Вопрос упоминает средневековые аналоги что подразумевает что мы говорим о чемто существовавшем в Средние века но имеющем современный аналог или преемника\n",
      "\n",
      "Шаг 3 Ключевым элементом в вопросе является вращающаяся дверь Это может быть как буквальная так и метафорическая ссылка\n",
      "\n",
      "Шаг 4 В контексте темы Бэби и средневековых аналогов с вращающейся дверью можно предположить что речь идет о средстве или устройстве которое облегчает уход за младенцами или имеет отношение к их повседневной жизни\n",
      "\n",
      "Шаг 5 Средневековые аналоги современных приспособлений для ухода за детьми могли включать в себя различные устройства или мебель облегчающие уход за младенцами Вращающаяся дверь в этом контексте может быть частью устройства которое позволяет легко перемещать младенца из одного места в другое или обеспечивает легкий доступ к нему\n",
      "\n",
      "Шаг 6 Один из возможных ответов который приходит на ум — это люлька или колыбель Однако вращающаяся дверь не является типичным элементом конструкции люлек или колыбелей\n",
      "\n",
      "Шаг 7 Другой возможный ответ — это поворотный стол или устройство для купания младенцев но это также не кажется достаточно средневековым или широко распространенным\n",
      "\n",
      "Шаг 8 Еще один вариант — это вращающаяся дверь в средневековой конструкции которая могла быть частью устройства для передачи младенцев из одного места в другое например из дома в церковь для крещения Это звучит правдоподобно но требует дальнейшего уточнения\n",
      "\n",
      "Шаг 9 После дополнительных размышлений и анализа еще одним\n",
      "<Descriminator rating>:\n",
      "Чтобы ответить на этот вопрос давайте проанализируем тему Бэби и предоставленный вопрос\n",
      "\n",
      "Шаг 1 Тема Бэби предполагает что вопрос может быть связан с младенцами или детьми\n",
      "\n",
      "Шаг 2 Вопрос упоминает средневековые аналоги что подразумевает что мы говорим о чемто существовавшем в Средние века но имеющем современный аналог или преемника\n",
      "\n",
      "Шаг 3 Ключевым элементом в вопросе является вращающаяся дверь Это может быть как буквальная так и метафорическая ссылка\n",
      "\n",
      "Шаг 4 В контексте темы Бэби и средневековых аналогов с вращающейся дверью можно предположить что речь идет о средстве или устройстве которое облегчает уход за младенцами или имеет отношение к их повседневной жизни\n",
      "\n",
      "Шаг 5 Средневековые аналоги современных приспособлений для ухода за детьми могли включать в себя различные устройства или мебель облегчающие уход за младенцами Вращающаяся дверь в этом контексте может быть частью устройства которое позволяет легко перемещать младенца из одного места в другое или обеспечивает легкий доступ к нему\n",
      "\n",
      "Шаг 6 Один из возможных ответов который приходит на ум — это люлька или колыбель Однако вращающаяся дверь не является типичным элементом конструкции люлек или колыбелей\n",
      "\n",
      "Шаг 7 Другой возможный ответ — это поворотный стол или устройство для купания младенцев но это также не кажется достаточно средневековым или широко распространенным\n",
      "\n",
      "Шаг 8 Еще один вариант — это вращающаяся дверь в средневековой конструкции которая могла быть частью устройства для передачи младенцев из одного места в другое например из дома в церковь для крещения Это звучит правдоподобно но требует дальнейшего уточнения\n",
      "\n",
      "Шаг 9 После дополнительных размышлений и анализа еще одним\n",
      "<Развернутый ответ>:\n",
      "Чтобы ответить на этот вопрос давайте разберем его шаг за шагом\n",
      "\n",
      "1 Тема Бэби Это указывает на то что вопрос какимто образом связан с младенцами или детьми Однако на первый взгляд связь между бэби и вращающейся дверью не очевидна\n",
      "\n",
      "2 Ключевой элемент конструкции  вращающаяся дверь Вращающиеся двери часто ассоциируются с современными зданиями где они используются для минимизации потерь тепла или холода а также для управления потоком людей Однако в контексте средневековья вращающиеся двери не были распространены в жилых или общественных зданиях\n",
      "\n",
      "3 Средневековые аналоги Это означает что мы ищем нечто что использовалось в средние века и чемто напоминает или аналогично тому о чем идет речь в вопросе но с вращающейся дверью как ключевым элементом\n",
      "\n",
      "4 Связь с бэби В средние века забота о младенцах и детях существенно отличалась от современных стандартов Одним из ключевых аспектов этой заботы были колыбели или люльки которые использовались для укачивания младенцев\n",
      "\n",
      "5 Вращающаяся дверь в контексте бэби Если мы подумаем о средневековом аналоге который включает в себя вращающуюся дверь и связан с младенцами то можно предположить что это какоето приспособление или устройство которое облегчает уход за младенцем или помогает в его заботе\n",
      "\n",
      "6 Ответ Вращающаяся дверь в средневековом аналоге связанном с бэби могла бы быть элементом конструкции который облегчает доступ к младенцу не нарушая его отдых или не создавая неудобств Однако прямая связь между вращающейся дверью и средневековыми приспособлениями для ухода за младен\n",
      "<Descriminator rating>:\n",
      "Чтобы ответить на этот вопрос давайте разберем его шаг за шагом\n",
      "\n",
      "1 Тема Бэби Это указывает на то что вопрос какимто образом связан с младенцами или детьми Однако на первый взгляд связь между бэби и вращающейся дверью не очевидна\n",
      "\n",
      "2 Ключевой элемент конструкции  вращающаяся дверь Вращающиеся двери часто ассоциируются с современными зданиями где они используются для минимизации потерь тепла или холода а также для управления потоком людей Однако в контексте средневековья вращающиеся двери не были распространены в жилых или общественных зданиях\n",
      "\n",
      "3 Средневековые аналоги Это означает что мы ищем нечто что использовалось в средние века и чемто напоминает или аналогично тому о чем идет речь в вопросе но с вращающейся дверью как ключевым элементом\n",
      "\n",
      "4 Связь с бэби В средние века забота о младенцах и детях существенно отличалась от современных стандартов Одним из ключевых аспектов этой заботы были колыбели или люльки которые использовались для укачивания младенцев\n",
      "\n",
      "5 Вращающаяся дверь в контексте бэби Если мы подумаем о средневековом аналоге который включает в себя вращающуюся дверь и связан с младенцами то можно предположить что это какоето приспособление или устройство которое облегчает уход за младенцем или помогает в его заботе\n",
      "\n",
      "6 Ответ Вращающаяся дверь в средневековом аналоге связанном с бэби могла бы быть элементом конструкции который облегчает доступ к младенцу не нарушая его отдых или не создавая неудобств Однако прямая связь между вращающейся дверью и средневековыми приспособлениями для ухода за младен\n",
      "<Развернутый ответ>:\n",
      "Чтобы ответить на этот вопрос нам нужно разобрать его поэтапно\n",
      "\n",
      "1 Тема вопроса Бэби  это подсказка которая направляет нас к теме связанной с младенцами или детьми Однако соединение темы Бэби с вращающейся дверью средневековых аналогов не сразу очевидно\n",
      "\n",
      "2 Ключевым элементом конструкции ИХ средневековых аналогов была вращающаяся дверь  Этот фрагмент дает нам конкретную деталь на которой мы можем сосредоточиться Вращающаяся дверь в средневековом контексте могла быть частью различных конструкций но когда мы думаем о средневековых аналогах чегото связанного с Бэби нам нужно подумать о том что могло бы включать в себя элементы связанные с уходом за детьми или младенцами в средние века\n",
      "\n",
      "3 Средневековые аналоги  это термин который намекает на то что мы ищем нечто существовавшее в средние века но имеющее современный аналог или продолжение Это означает что нам нужно найти связь между средневековым предметом или конструкцией и современной концепцией связанной с Бэби\n",
      "\n",
      "4 Вращающаяся дверь  это ключевой элемент который вероятно использовался для обеспечения доступа или облегчения перемещения В контексте средневековых аналогов связанных с младенцами или детьми это могло бы быть частью устройства или конструкции предназначенной для ухода за младенцами\n",
      "\n",
      "5 Объединение темы Бэби с вращающейся дверью  одно из возможных объяснений может быть связано с устройствами или конструкциями использовавшимися для передачи или перемещения младенцев в средние века Один из исторических примеров который мог бы соответствовать этому описанию  это окно для подкидышей или вращающийся ящик для подкидышей\n",
      "<Descriminator rating>:\n",
      "Чтобы ответить на этот вопрос нам нужно разобрать его поэтапно\n",
      "\n",
      "1 Тема вопроса Бэби  это подсказка которая направляет нас к теме связанной с младенцами или детьми Однако соединение темы Бэби с вращающейся дверью средневековых аналогов не сразу очевидно\n",
      "\n",
      "2 Ключевым элементом конструкции ИХ средневековых аналогов была вращающаяся дверь  Этот фрагмент дает нам конкретную деталь на которой мы можем сосредоточиться Вращающаяся дверь в средневековом контексте могла быть частью различных конструкций но когда мы думаем о средневековых аналогах чегото связанного с Бэби нам нужно подумать о том что могло бы включать в себя элементы связанные с уходом за детьми или младенцами в средние века\n",
      "\n",
      "3 Средневековые аналоги  это термин который намекает на то что мы ищем нечто существовавшее в средние века но имеющее современный аналог или продолжение Это означает что нам нужно найти связь между средневековым предметом или конструкцией и современной концепцией связанной с Бэби\n",
      "\n",
      "4 Вращающаяся дверь  это ключевой элемент который вероятно использовался для обеспечения доступа или облегчения перемещения В контексте средневековых аналогов связанных с младенцами или детьми это могло бы быть частью устройства или конструкции предназначенной для ухода за младенцами\n",
      "\n",
      "5 Объединение темы Бэби с вращающейся дверью  одно из возможных объяснений может быть связано с устройствами или конструкциями использовавшимися для передачи или перемещения младенцев в средние века Один из исторических примеров который мог бы соответствовать этому описанию  это окно для подкидышей или вращающийся ящик для подкидышей\n",
      "<Развернутый ответ>:\n",
      "Ответ Ворота\n",
      "\n",
      "Обоснование Ворота  это ключевой элемент конструкции средневековых аналогов детских кроваток которые использовались для защиты и комфорта младенцев Вращающаяся дверь позволяла легко доступать к ребенку и обеспечивала безопасность не позволяя ребенку выпасть из кроватки\n",
      "<Descriminator rating>:\n",
      "Ответ Ворота\n",
      "\n",
      "Обоснование Ворота  это ключевой элемент конструкции средневековых аналогов детских кроваток которые использовались для защиты и комфорта младенцев Вращающаяся дверь позволяла легко доступать к ребенку и обеспечивала безопасность не позволяя ребенку выпасть из кроватки\n",
      "<Развернутый ответ>:\n",
      "Чтобы ответить на этот вопрос нам нужно рассмотреть средневековые аналоги современных бэби  и подумать какой ключевой элемент конструкции мог включать вращающуюся дверь\n",
      "\n",
      "1 Определение средневековых аналогов бэби В средние века детские кроватки или приспособления для переноски детей могли быть довольно простыми Это могли быть корзины ящики или специально изготовленные кроватки но точно не такие как современные бэби с их сложными механизмами и функциями\n",
      "\n",
      "2 Вращающаяся дверь как ключевой элемент Вращающаяся дверь в контексте средневековых аналогов бэби могла служить для облегчения доступа к ребенку не требуя полностью открывать или закрывать конструкцию Это могло быть особенно полезно в холодном климате чтобы минимизировать поток холодного воздуха или для обеспечения частичной изоляции ребенка от внешней среды\n",
      "\n",
      "3 Возможные применения Такая конструкция могла быть частью более крупной мебели или отдельным элементом предназначенным для размещения младенца Вращающаяся дверь обеспечивала бы легкий доступ для кормления смены подгузников или просто для того чтобы взять ребенка на руки не подвергая его опасности выпадения или переохлаждения\n",
      "\n",
      "4 Исторический контекст Средние века характеризовались относительно простым дизайном мебели и домашних принадлежностей Любая конструкция включавшая вращающуюся дверь была бы достаточно инновационной для того времени особенно если она была parte бэби или детской кроватки\n",
      "\n",
      "Учитывая все эти факторы ключевым элементом конструкции средневековых аналогов бэби который включал вращающуюся дверь скорее всего была детская кроватка или коляска спроектированная для облегчения ухода за младенцем обеспечивая при этом защиту от внешней среды\n",
      "<Descriminator rating>:\n",
      "Чтобы ответить на этот вопрос нам нужно рассмотреть средневековые аналоги современных бэби  и подумать какой ключевой элемент конструкции мог включать вращающуюся дверь\n",
      "\n",
      "1 Определение средневековых аналогов бэби В средние века детские кроватки или приспособления для переноски детей могли быть довольно простыми Это могли быть корзины ящики или специально изготовленные кроватки но точно не такие как современные бэби с их сложными механизмами и функциями\n",
      "\n",
      "2 Вращающаяся дверь как ключевой элемент Вращающаяся дверь в контексте средневековых аналогов бэби могла служить для облегчения доступа к ребенку не требуя полностью открывать или закрывать конструкцию Это могло быть особенно полезно в холодном климате чтобы минимизировать поток холодного воздуха или для обеспечения частичной изоляции ребенка от внешней среды\n",
      "\n",
      "3 Возможные применения Такая конструкция могла быть частью более крупной мебели или отдельным элементом предназначенным для размещения младенца Вращающаяся дверь обеспечивала бы легкий доступ для кормления смены подгузников или просто для того чтобы взять ребенка на руки не подвергая его опасности выпадения или переохлаждения\n",
      "\n",
      "4 Исторический контекст Средние века характеризовались относительно простым дизайном мебели и домашних принадлежностей Любая конструкция включавшая вращающуюся дверь была бы достаточно инновационной для того времени особенно если она была parte бэби или детской кроватки\n",
      "\n",
      "Учитывая все эти факторы ключевым элементом конструкции средневековых аналогов бэби который включал вращающуюся дверь скорее всего была детская кроватка или коляска спроектированная для облегчения ухода за младенцем обеспечивая при этом защиту от внешней среды\n",
      "<Развернутый ответ>:\n",
      "Отличный вопрос Давайте разберем его шаг за шагом\n",
      "\n",
      "Тема Бэби и упоминание средневековых аналогов наводят на мысль что речь идет о чемто связанном с детьми или младенцами\n",
      "\n",
      "Ключевым элементом конструкции средневековых аналогов является вращающаяся дверь Это наводит на мысль что речь идет о чемто что имеет отношение к доступу или входу\n",
      "\n",
      "Объединив эти две мысли я могу предположить что речь идет о средневековых аналогах современных детских дверей или калиток\n",
      "\n",
      "Однако чтобы быть более конкретным я хочу вспомнить один интересный факт В средние века существовали специальные устройства называемые вращающимися дверями или турникетами которые использовались для передачи младенцев в приюты или сиротские дома Эти двери были спроектированы таким образом что мать могла оставить ребенка внутри не входя в само здание что позволяло сохранить анонимность\n",
      "\n",
      "С учетом всех этих соображений я делаю вывод что ключевым элементом конструкции средневековых аналогов современных бэбибоксов или окна жизни была вращающаяся дверь\n",
      "\n",
      "Итак мой ответ Бэбибокс\n",
      "<Descriminator rating>:\n",
      "Отличный вопрос Давайте разберем его шаг за шагом\n",
      "\n",
      "Тема Бэби и упоминание средневековых аналогов наводят на мысль что речь идет о чемто связанном с детьми или младенцами\n",
      "\n",
      "Ключевым элементом конструкции средневековых аналогов является вращающаяся дверь Это наводит на мысль что речь идет о чемто что имеет отношение к доступу или входу\n",
      "\n",
      "Объединив эти две мысли я могу предположить что речь идет о средневековых аналогах современных детских дверей или калиток\n",
      "\n",
      "Однако чтобы быть более конкретным я хочу вспомнить один интересный факт В средние века существовали специальные устройства называемые вращающимися дверями или турникетами которые использовались для передачи младенцев в приюты или сиротские дома Эти двери были спроектированы таким образом что мать могла оставить ребенка внутри не входя в само здание что позволяло сохранить анонимность\n",
      "\n",
      "С учетом всех этих соображений я делаю вывод что ключевым элементом конструкции средневековых аналогов современных бэбибоксов или окна жизни была вращающаяся дверь\n",
      "\n",
      "Итак мой ответ Бэбибокс\n"
     ]
    },
    {
     "data": {
      "text/plain": [
       "'Бэбибокс'"
      ]
     },
     "execution_count": 45,
     "metadata": {},
     "output_type": "execute_result"
    }
   ],
   "source": [
    "await async_ask_sd_9_7(df_to_eval, 0, verbose=True, logId='SuggesterDiscriminator-9-7')"
   ]
  },
  {
   "cell_type": "markdown",
   "id": "e2823089-fe86-4dc5-8b6b-24477ee6f2e9",
   "metadata": {},
   "source": [
    "Started 10/8 ?; finished 10/8 ?"
   ]
  },
  {
   "cell_type": "code",
   "execution_count": 55,
   "id": "63ff45db-40f2-47a8-aacc-ff2745d2adbd",
   "metadata": {
    "execution": {
     "iopub.execute_input": "2024-08-10T19:24:46.047637Z",
     "iopub.status.busy": "2024-08-10T19:24:46.046791Z",
     "iopub.status.idle": "2024-08-10T19:54:51.811924Z",
     "shell.execute_reply": "2024-08-10T19:54:51.811231Z",
     "shell.execute_reply.started": "2024-08-10T19:24:46.047611Z"
    },
    "tags": []
   },
   "outputs": [
    {
     "name": "stdout",
     "output_type": "stream",
     "text": [
      "\n",
      "Prediction timed out.\n",
      "f1 0.48992120190164695; EM: {'exact_match': 0.23557692307692307}\n"
     ]
    }
   ],
   "source": [
    "f1_score, em_score, responses_, f1_scores = await async_inference(df_to_eval.iloc[:, :], async_ask_sd_9_7, logId='SuggesterDiscriminator-9-7')"
   ]
  },
  {
   "cell_type": "markdown",
   "id": "25cd91f9-d067-4aa1-9dd9-4dcc3491cf9e",
   "metadata": {},
   "source": [
    "## Suggester Discriminator with Critical Analysis SDwCA"
   ]
  },
  {
   "cell_type": "code",
   "execution_count": 56,
   "id": "f05ec58c-2c59-4304-b7ed-a75022371334",
   "metadata": {
    "execution": {
     "iopub.execute_input": "2024-08-10T19:54:51.814054Z",
     "iopub.status.busy": "2024-08-10T19:54:51.813261Z",
     "iopub.status.idle": "2024-08-10T19:54:51.834636Z",
     "shell.execute_reply": "2024-08-10T19:54:51.834005Z",
     "shell.execute_reply.started": "2024-08-10T19:54:51.814030Z"
    },
    "tags": []
   },
   "outputs": [],
   "source": [
    "def async_get_SDwCA(threshold=8, max_attempts=7, max_CoT_steps=4):\n",
    "    '''\n",
    "    Scheme:\n",
    "        q -> suggester -> answ\n",
    "        answ -> discriminator -> rating\n",
    "        if rating >= threshold\n",
    "            return asnw\n",
    "        answ, rating -> critic -> critique\n",
    "        answs, critic -> summer -> summary\n",
    "        summary -> suggester -> new_answ\n",
    "        repeat the cycle\n",
    "    '''\n",
    "    \n",
    "    async def ask_func(df_, row_idx, verbose=False, logId=None):    \n",
    "        topic = df_.inputs[row_idx].get('topic', '')\n",
    "        q = df_.inputs[row_idx]['text']\n",
    "        \n",
    "        outputs = []\n",
    "        summaries = []\n",
    "        \n",
    "        for i in range(max_attempts):\n",
    "            curr_output = []\n",
    "            if len(outputs) == 0:\n",
    "                suggester_q = 'Ты - участник игры \"Что? Где? Когда?\", и твоя задача ответить на заданный тебе вопрос по заданной теме.\\\n",
    "                    \\nТема вопроса: {topic}\\nВопрос: {q}'.format(topic=topic, q=q)\n",
    "                suggester_q += '\\nОбоснуй свой ответ. Рассуждай шаг за шагом,\\\n",
    "                    при этом в рассуждении должно быть не более чем {limit} шагов.'.format(limit=max_CoT_steps)\n",
    "            else:\n",
    "                summer_q = 'Ты - участник команды в игре \"Что? Где? Когда?\". Тебе известны вопрос и тема вопроса.\\\n",
    "                    \\nТема вопроса: {topic}\\nВопрос: {q}'.format(topic=topic, q=q)\n",
    "                summer_q += '\\n\\nРанее другие участники уже пытались ответить на заданный вопрос, но их ответы были неудовлетворительны.'\n",
    "                for j, (answ, r, critic) in enumerate(outputs):\n",
    "                    summer_q += f'\\nОтвет {j}й: {answ}\\nКритика {j}го ответа: {critic}\\nОценка {j}го ответа: {r}'                \n",
    "                summer_q += '\\n\\nТвоя задача кратко суммировать все ответы и критику на них.'\n",
    "                summer_resp = await async_ask(summer_q)\n",
    "                summaries.append(summer_resp)\n",
    "                \n",
    "                suggester_q = 'Ты - участник команды в игре \"Что? Где? Когда?\", и твоя задача ответить на заданный тебе вопрос по заданной теме.\\\n",
    "                    \\nТема вопроса: {topic}\\nВопрос: {q}'.format(topic=topic, q=q)\n",
    "                \n",
    "                ## all answers, critiques approach\n",
    "                # suggester_q += 'Ранее другие участники уже пытались ответить на заданный вопрос, но их ответы были неудовлетворительны.'\n",
    "                # for j, (answ, r, critic) in enumerate(outputs):\n",
    "                #     suggester_q += f'\\nОтвет {j}й: {answ}\\nКритика {j}го ответа: {critic}\\nОценка {j}го ответа: {r}'\n",
    "                # suggester_q += '\\nТвоя задача предложить свой вариант ответа на вопрос, учитывая критику вариантов других участников.\\\n",
    "                #     Обоснуй свой ответ. Рассуждай шаг за шагом.'\n",
    "                \n",
    "                ## last answer, critic approach\n",
    "                # suggester_q += '\\nРанее другой участник уже пытался ответить на заданный вопрос, но его ответ был неудовлетворителен.'\n",
    "                # answ, critic, r = outputs[-1]\n",
    "                # suggester_q += f'\\nОтвет другого участника: {answ}\\\n",
    "                #     \\nКритика ответа другого участника: {critic}\\\n",
    "                #     \\nОценка ответа  другого участника: {r}'\n",
    "                # suggester_q += '\\nТвоя задача предложить свой вариант ответа на вопрос, учитывая критику варианта другого участника.\\\n",
    "                #     Обоснуй свой ответ. Рассуждай шаг за шагом.'\n",
    "                \n",
    "                # summary approach\n",
    "                suggester_q += 'Ранее другие участники уже пытались ответить на заданный вопрос, но их ответы были неудовлетворительны.\\\n",
    "                    Ответы и критика на них в краткой форме приведены ниже:\\n{summary}'.format(summary=summer_resp)\n",
    "                suggester_q += '\\n\\nТвоя задача предложить свой вариант ответа на вопрос, учитывая критику вариантов других участников.\\\n",
    "                    Обоснуй свой ответ. Рассуждай шаг за шагом,\\\n",
    "                    при этом в рассуждении должно быть не более чем {limit} шагов.'.format(limit=max_CoT_steps)\n",
    "            resp = await async_ask(suggester_q)\n",
    "            if verbose:\n",
    "                print(f'<Развернутый ответ>:\\n{resp}')\n",
    "\n",
    "            discriminator_q = 'Ты - участник команды в игре \"Что? Где? Когда?\". Тебе дан вопрос, тема вопроса и ответ другого участника.\\\n",
    "                \\nТема вопроса: {topic}\\nВопрос: {q}\\nОтвет другого участника {resp}'.format(topic=topic, q=q, resp=resp)\n",
    "            discriminator_q += '\\nКак ты считаешь, является ли предложенный ответ на вопрос правильным или нет? \\\n",
    "                Оцени вероятность правильности ответа по шкале от 0 до 10, где 0 - точно неправильно и 10 - точно правильно.\\\n",
    "                В ответ пиши только одну цифру.'\n",
    "            discriminator_resp = await async_ask(discriminator_q, top_k=1)\n",
    "            try:\n",
    "                rating = int(''.join(c for c in discriminator_resp if c in '0123456789'))\n",
    "                curr_output.extend([resp, rating])\n",
    "                if verbose:\n",
    "                    print(f'<Descriminator rating>:\\n{rating}')\n",
    "                if rating >= threshold:\n",
    "                    curr_output.append('Good answer reached')\n",
    "                    outputs.append(tuple(curr_output))\n",
    "                    break\n",
    "            except ValueError:\n",
    "                print(f'Not correct value for rating was returned: {discriminator_resp}')\n",
    "                continue\n",
    "            critic_q = 'Ты - участник команды в игре \"Что? Где? Когда?\". Тебе дан вопрос, тема вопроса, ответ на вопрос,\\\n",
    "                предложенный другим участником команды, и оценка этого ответа капитаном команды по шкале от 0 до 10.\\\n",
    "                \\nТема вопроса: {topic} \\nВопрос: {q}\\nОтвет другого участника {resp}\\nОценка ответа: {rating}\\\n",
    "                Предложенный участником ответ был отвергнут капитаном как неудовлетворительный.\\\n",
    "                \\nТвоя задача объяснить почему предложенный ответ был признан неудовлетворительным.\\\n",
    "                \\nКритика ответа: '.format(topic=topic, q=q, resp=resp, rating=rating)\n",
    "            critic_resp = await async_ask(critic_q)\n",
    "            if verbose:\n",
    "                print(f'<Критика>:\\n{critic_resp}')\n",
    "            curr_output.append(critic_resp)\n",
    "            outputs.append(tuple(curr_output))\n",
    "        \n",
    "        if outputs[-1][1] < threshold:\n",
    "            max_rating = -np.inf\n",
    "            for answ, rating, _ in outputs:\n",
    "                if rating > max_rating:\n",
    "                    max_rating = rating\n",
    "                    best_answ = answ\n",
    "        else:\n",
    "            best_answ = outputs[-1][0]\n",
    "        \n",
    "        envoy_q = 'Ты - участник команды в игре \"Что? Где? Когда?\". Тебе дан вопрос, тема вопроса и ответ капитана команды.\\\n",
    "            \\nТема вопроса: {topic}\\nВопрос: {q}\\nОтвет капитана команды {best_answ}'.format(topic=topic, q=q, best_answ=best_answ)\n",
    "        envoy_q += '\\nТвоя задача сформировать окончательный ответ команды в соответствии с ответом капитана.\\\n",
    "            Обязательно пиши ответ только на русском языке. Ответ должен быть кратким, без пояснений. \\\n",
    "            Не добавляй никаких дополнительных знаков пунктуации в начале и в конце.\\nОтвет: '\n",
    "        envoy_resp = await async_ask(envoy_q, top_k=1, clear=True)\n",
    "        \n",
    "        if logId is not None:\n",
    "            logDir = f'/home/jupyter/datasphere/project/log/{logId}'\n",
    "            os.makedirs(logDir, exist_ok=True)\n",
    "            with open(f'{logDir}/q{row_idx}.txt', 'w') as fwrite:\n",
    "                fwrite.write(f'<Qestion>: {q}\\n')\n",
    "                for i, (resp, rating, critique) in enumerate(outputs):\n",
    "                    if i > 0:\n",
    "                        fwrite.write(f'\\n<Summary {i-1}>: {summaries[i-1]}\\n')\n",
    "                    fwrite.write(f'\\n<Response {i}>: {resp}\\n')\n",
    "                    fwrite.write(f'\\n<Rating {i}>: {rating}\\n')\n",
    "                    fwrite.write(f'\\n<Critque {i}>: {critique}\\n')\n",
    "                fwrite.write(f'\\n<Final answer>: {envoy_resp}\\n')\n",
    "\n",
    "        return envoy_resp\n",
    "    \n",
    "    return ask_func"
   ]
  },
  {
   "cell_type": "code",
   "execution_count": 57,
   "id": "3239b0a9-719f-4d51-9cd3-dcd08ec81430",
   "metadata": {
    "execution": {
     "iopub.execute_input": "2024-08-10T19:54:51.835908Z",
     "iopub.status.busy": "2024-08-10T19:54:51.835448Z",
     "iopub.status.idle": "2024-08-10T19:54:51.847984Z",
     "shell.execute_reply": "2024-08-10T19:54:51.847389Z",
     "shell.execute_reply.started": "2024-08-10T19:54:51.835888Z"
    },
    "tags": []
   },
   "outputs": [],
   "source": [
    "async_ask_SDwCA_9_7 = async_get_SDwCA(threshold=9)"
   ]
  },
  {
   "cell_type": "code",
   "execution_count": 59,
   "id": "d391860a-232a-41df-833a-d1ed269d7ef9",
   "metadata": {
    "execution": {
     "iopub.execute_input": "2024-08-10T19:56:03.012328Z",
     "iopub.status.busy": "2024-08-10T19:56:03.011606Z",
     "iopub.status.idle": "2024-08-10T20:00:07.532472Z",
     "shell.execute_reply": "2024-08-10T20:00:07.531879Z",
     "shell.execute_reply.started": "2024-08-10T19:56:03.012300Z"
    },
    "tags": []
   },
   "outputs": [
    {
     "name": "stdout",
     "output_type": "stream",
     "text": [
      "<Развернутый ответ>:\n",
      "Отлично, я готов ответить на вопрос. Вот мои рассуждения:\n",
      "\n",
      "Шаг 1: Нам дана тема \"Гласные - только 'А'\", что означает, что ответ должен содержать только гласную букву \"А\".\n",
      "\n",
      "Шаг 2: Вопрос упоминает Державина, известного русского поэта, и сравнение богатого и ленивого вельможи с 33-м потомком Нина.\n",
      "\n",
      "Шаг 3: Нин - библейский персонаж, известный как правнук Ноя. Если мы посчитаем 33 поколения от Нина, мы можем прийти к известному историческому или литературному персонажу.\n",
      "\n",
      "Шаг 4: Учитывая, что Державин сравнивает богатого и ленивого вельможу с этим человеком, я предполагаю, что ответом может быть \"Хан\", который является 33-м потомком Нина и известен своей роскошной и ленивой жизнью.\n",
      "\n",
      "Ответ: Хан.\n",
      "<Descriminator rating>:\n",
      "8\n",
      "<Критика>:\n",
      "Ответ другого участника команды был отвергнут капитаном, потому что он не соответствует теме \"Гласные - только 'А'\". В слове \"Хан\" присутствует гласная буква \"А\", но в имени, которое Державин использовал для сравнения, должно быть только гласные буквы \"А\", без других гласных. Следовательно, ответ \"Хан\" не удовлетворяет условию темы.\n",
      "<Развернутый ответ>:\n",
      "Шаг 1: Анализ темы \"Гласные - только 'А'\" указывает на то, что искомое имя должно содержать только гласную букву \"А\" без каких-либо других гласных.\n",
      "\n",
      "Шаг 2: Исследование литературных работ Державина и его сравнений с богатыми и ленивыми вельможами приводит нас к рассмотрению исторических и мифологических фигур, которые могли бы соответствовать этой теме.\n",
      "\n",
      "Шаг 3: Поскольку Державин сравнивает богатого и ленивого вельможу с 33-м потомком Нина, мы можем предположить, что это может быть библейский или исторический персонаж, связанный с древними цивилизациями.\n",
      "\n",
      "Шаг 4: Учитывая ограничение темы \"Гласные - только 'А'\", мы можем рассмотреть имена, которые состоят только из согласных и гласной \"А\". Одним из таких имен является \"Аарон\", но он не соответствует критериям, поскольку содержит другие гласные. Однако, учитывая библейский контекст и ограничение темы, мы можем предположить, что искомое имя может быть \"Аам\" или \"Аман\", но наиболее вероятным кандидатом, соответствующим теме и контексту, является \"Аарон\" без других гласных, что приводит нас к ответу \"Аар\".\n",
      "\n",
      "Ответ: \"Аар\".\n",
      "<Descriminator rating>:\n",
      "0\n",
      "<Критика>:\n",
      "Критика ответа:\n",
      "\n",
      "Предложенный ответ \"Аар\" был признан неудовлетворительным, поскольку он не соответствует историческому контексту вопроса. Державин сравнивает богатого и ленивого вельможу с 33-м потомком Нина, что указывает на библейский или исторический персонаж. Однако, \"Аар\" не является известным библейским или историческим персонажем, связанным с древними цивилизациями.\n",
      "\n",
      "Кроме того, ответ \"Аар\" был получен путем искусственного удаления гласных из имени \"Аарон\", что не является естественным или логичным подходом к решению вопроса. Это указывает на то, что участник попытался искусственно приспособить имя к теме \"Гласные - только 'А'\", вместо того, чтобы искать более подходящий и исторически обоснованный ответ.\n",
      "\n",
      "В целом, ответ \"Аар\" не удовлетворяет требованиям вопроса, поскольку он не соответствует историческому контексту и был получен путем искусственного манипулирования именем. Поэтому капитан команды правильно оценил этот ответ как неудовлетворительный, присвоив ему 0 баллов.\n",
      "<Развернутый ответ>:\n",
      "Хорошо, давайте проанализируем вопрос и предыдущие ответы, чтобы предложить свой вариант.\n",
      "\n",
      "**Шаг 1: Анализ темы и вопроса**\n",
      "Тема \"Гласные - только 'А'\" означает, что искомое имя должно содержать только гласную букву \"А\". Вопрос касается человека, с которым Державин сравнивает богатого и ленивого вельможу, и упоминается, что этот человек является 33-м потомком Нина.\n",
      "\n",
      "**Шаг 2: Исключение предыдущих ошибок**\n",
      "Предыдущие ответы \"Хан\" и \"Аар\" были отвергнуты из-за несоответствия теме или историческому контексту. Поэтому нам нужно предложить имя, которое соответствует теме и имеет историческую основу.\n",
      "\n",
      "**Шаг 3: Поиск исторической личности**\n",
      "Нам нужно найти историческую личность, которая является 33-м потомком Нина и соответствует теме \"Гласные - только 'А'\". Одна из возможных личностей - Ахилл, герой греческой мифологии, но он не является 33-м потомком Нина.\n",
      "\n",
      "**Шаг 4: Новый вариант ответа**\n",
      "После анализа и исключения предыдущих ошибок, я предлагаю новый вариант ответа: \"Адам\". Этот ответ соответствует теме \"Гласные - только 'А'\", и Адам является библейской личностью, которая могла бы быть упомянута Державиным в сравнении с богатым и ленивым вельможей. Однако, важно отметить, что этот ответ требует дальнейшего исторического подтверждения, чтобы быть полностью уверенным в его правильности.\n",
      "<Descriminator rating>:\n",
      "0\n",
      "<Критика>:\n",
      "Предложенный ответ \"Адам\" был признан неудовлетворительным по нескольким причинам:\n",
      "\n",
      "1. **Несоответствие историческому контексту**: Державин жил в 18 веке и был русским поэтом, поэтому маловероятно, что он сравнивал бы богатого и ленивого вельможу с библейской личностью Адамом, который не имеет прямого отношения к русской истории или культуре того времени.\n",
      "\n",
      "2. **Отсутствие связи с Нином**: Вопрос упоминает, что искомый человек является 33-м потомком Нина, но неясно, как Адам связан с Нином. В библейской традиции Нин является потомком Ноя, и нет прямой связи между Нином и Адамом, которая бы удовлетворяла условиям вопроса.\n",
      "\n",
      "3. **Недостаточная историческая основа**: Хотя Адам является библейской личностью, нет исторических свидетельств того, что Державин когда-либо сравнивал богатого и ленивого вельможу с Адамом. Ответ кажется спекулятивным и не подкрепленным историческими фактами.\n",
      "\n",
      "Из-за этих недостатков предложенный ответ \"Адам\" был признан неудовлетворительным и получил оценку 0.\n",
      "<Развернутый ответ>:\n",
      "Шаг 1: Понимание темы и вопроса\n",
      "Тема \"Гласные - только 'А'\" означает, что искомое имя должно содержать только гласную букву \"А\". Вопрос касается человека, с которым Державин сравнивает богатого и ленивого вельможу, и упоминается, что этот человек является 33-м потомком Нина.\n",
      "\n",
      "Шаг 2: Анализ предыдущих ответов\n",
      "Предыдущие ответы (\"Хан\", \"Аар\", \"Адам\") были признаны неудовлетворительными из-за несоответствия теме или историческому контексту. Необходимо учитывать эти ошибки при предложении нового ответа.\n",
      "\n",
      "Шаг 3: Поиск альтернативных вариантов\n",
      "Учитывая, что искомое имя должно содержать только гласную букву \"А\" и быть связанным с историческим контекстом, я предлагаю рассмотреть имя \"Ахам\". Однако, не найдя исторических свидетельств, связывающих Державина с таким именем, я продолжаю поиск.\n",
      "\n",
      "Шаг 4: Предложение нового ответа\n",
      "После тщательного анализа и поиска альтернативных вариантов, я предлагаю имя \"Ахан\". Однако, я не нашел исторических свидетельств, связывающих Державина с таким именем. В результате, я решил отказаться от этой идеи и не смог придумать новый ответ.\n",
      "\n",
      "В результате, я не смог придумать новый ответ, удовлетворяющий всем условиям вопроса и темы.\n",
      "<Descriminator rating>:\n",
      "0\n",
      "<Критика>:\n",
      "Предложенный ответ был признан неудовлетворительным, потому что он не удовлетворяет историческому контексту, упомянутому в вопросе. Вопрос конкретно ссылается на сравнение, сделанное Державиным, и на то, что искомый человек является 33-м потомком Нина. Однако, в предложенном ответе нет никаких указаний на связь с Державиным или историческим контекстом, упомянутым в вопросе.\n",
      "\n",
      "Кроме того, предложенный ответ (\"Ахан\") не подкреплен историческими свидетельствами, которые могли бы подтвердить связь этого имени с Державиным или упомянутым контекстом. Это означает, что ответ не удовлетворяет условиям вопроса и не может быть признан правильным.\n",
      "\n",
      "Таким образом, капитан команды оценил ответ как 0, поскольку он не удовлетворяет историческому контексту и не подкреплен необходимыми свидетельствами.\n",
      "<Развернутый ответ>:\n",
      "Адам. В библейской традиции Адам считается первым человеком, созданным Богом. Ной, в свою очередь, является потомком Адама и известен как спаситель человечества и животных во время всемирного потопа. Таким образом, Адам является предком Ноя и, следовательно, предком всех людей, включая богатого и ленивого вельможу. Сравнение с Адамом может быть использовано Державиным для подчеркивания первородного греха или изначальной природы человека, общей для всех людей независимо от их социального статуса или поведения.\n",
      "<Descriminator rating>:\n",
      "0\n",
      "<Критика>:\n",
      "Ответ другого участника команды был признан неудовлетворительным по нескольким причинам:\n",
      "\n",
      "1. **Неправильная интерпретация вопроса**: Вопрос спрашивает о конкретном человеке, с которым Державин сравнивает богатого и ленивого вельможу, а не о библейском персонаже или общем предке человечества.\n",
      "\n",
      "2. **Неточная связь с Державиным**: Хотя Адам является библейским персонажем, нет никаких указаний на то, что Державин использовал его в качестве примера в своём сравнении. Державин был русским поэтом 18-го века, и его работы часто отражали реалии и культуру своего времени.\n",
      "\n",
      "3. **Неучёт темы \"Гласные - только 'А'\"**: Тематическое ограничение \"Гласные - только 'А'\" предполагает, что имя человека, на которого ссылается Державин, должно содержать только гласную \"А\", что не соответствует имени \"Адам\", содержащему также другие гласные.\n",
      "\n",
      "4. **Отсутствие прямой связи с потомком Нина**: Вопрос упоминает \"33-го потомка Нина\", что предполагает конкретную генеалогическую связь. Предложенный ответ не устанавливает четкой связи между Адамом и этой конкретной линией потомков.\n",
      "\n",
      "Из-за этих недостатков предложенный ответ не смог удовлетворительно ответить на поставленный вопрос и поэтому был оценен в 0 баллов капитаном команды.\n",
      "<Развернутый ответ>:\n",
      "Чтобы ответить на вопрос, соответствуя теме \"Гласные - только 'А'\" и учитывая исторический контекст Державина и связь с Нином, я предлагаю следующий вариант ответа:\n",
      "\n",
      "**Ответ:** Атаман.\n",
      "\n",
      "**Обоснование:**\n",
      "\n",
      "1.  **Соответствие теме \"Гласные - только 'А'\"**: Имя \"Атаман\" полностью соответствует теме, поскольку содержит только гласную \"А\".\n",
      "\n",
      "2.  **Исторический контекст Державина**: Державин жил в 18 веке и был известным русским поэтом. В его произведениях часто встречаются исторические и мифологические отсылки. Атаман как титул казачьего лидера был актуален в период жизни Державина, что делает его подходящим кандидатом для сравнения в контексте его поэзии.\n",
      "\n",
      "3.  **Связь с Нином**: Хотя прямой связи между Нином и Атаманом не существует, сам факт, что вопрос упоминает 33-го потомка Нина, может быть метафорическим или поэтическим выражением, используемым Державиным для обозначения древности и исторической значимости. Атаман как символ лидерства и власти в казачьем сообществе может быть использован Державиным для сравнения с богатым и ленивым вельможей, подчеркивая контраст между активным лидерством и праздностью.\n",
      "\n",
      "4.  **Учет предыдущей критики**: В отличие от предыдущих попыток, этот ответ учитывает все условия вопроса, включая соответствие теме \"Гласные - только 'А'\", исторический контекст Державина и связь с Нином через поэтическую или метафорическую интерпретацию.\n",
      "<Descriminator rating>:\n",
      "0\n",
      "<Критика>:\n",
      "Ответ \"Атаман\" был признан неудовлетворительным по нескольким причинам:\n",
      "\n",
      "1.  **Неточная интерпретация темы**: Хотя имя \"Атаман\" соответствует теме \"Гласные - только 'А'\", оно не учитывает полный контекст вопроса, который включает в себя историческую и поэтическую значимость.\n",
      "\n",
      "2.  **Недостаточная связь с Нином**: Предложенный ответ не смог установить убедительную связь между Атаманом и Нином, что является ключевым аспектом вопроса. Прямой или косвенный исторический или поэтический контекст, связывающий Атамана с Нином, не был предоставлен.\n",
      "\n",
      "3.  **Недостаточная обоснованность в произведениях Державина**: Ответ не смог предоставить конкретных примеров или ссылок на произведения Державина, где Атаман упоминается в контексте сравнения с богатым и ленивым вельможей. Это отсутствие конкретных доказательств делает ответ менее убедительным.\n",
      "\n",
      "4.  **Недостаточная оригинальность и глубина**: Ответ не смог предложить нового или оригинального взгляда на тему, а вместо этого опирался на общую информацию. Это отсутствие глубины и оригинальности сделало ответ менее привлекательным для капитана команды.\n",
      "\n",
      "В целом, предложенный ответ не смог удовлетворительно ответить на вопрос, не предоставив достаточной связи между Атаманом и Нином, а также не демонстрируя глубокого понимания исторического и поэтического контекста, в котором Державин писал.\n",
      "<Развернутый ответ>:\n",
      "Шаг 1: Вопрос упоминает человека, с которым Державин сравнивает богатого и ленивого вельможу, и этот человек является 33-м потомком Нина. Это указывает на библейский контекст, поскольку Нин является библейской фигурой.\n",
      "\n",
      "Шаг 2: Тема \"Гласные - только 'А'\" означает, что искомое имя должно содержать только гласную букву \"А\". Это существенно ограничивает круг возможных имен.\n",
      "\n",
      "Шаг 3: Поскольку предыдущие ответы (\"Хан\" и \"Аар\") были отвергнуты из-за несоответствия теме или историческому контексту, необходимо найти имя, которое не только соответствует теме \"Гласные - только 'А'\", но и имеет связь с библейской линией Нина.\n",
      "\n",
      "Шаг 4: Учитывая библейский контекст и ограничение по гласным, одним из возможных имен, которое соответствует критериям, является \"Адам\". Адам является ключевой фигурой в библейской генеалогии и первым человеком, созданным Богом. Однако, чтобы соответствовать теме \"Гласные - только 'А'\", мы должны рассмотреть вариации или имена, связанные с этой библейской линией, которые также удовлетворяют критериям по гласным.\n",
      "\n",
      "Ответ: \"Адам\" не полностью соответствует теме из-за наличия гласной \"и\" в некоторых вариантах имени или в связанных с ним именах. Однако, учитывая библейский контекст и ограничения, можно рассмотреть другие имена из библейской генеалогии, которые удовлетворяют критериям по гласным. Один из вариантов, который мог бы соответствовать, это \"Аарон\", но он был уже отвергнут из-за искусственного удаления гласных. Поэтому, придерживаясь строгих критериев темы и учитывая исторический контекст, найти идеальный ответ, удовлетворяющий всем условиям, оказывается весьма сложной задачей.\n",
      "<Descriminator rating>:\n",
      "0\n",
      "<Критика>:\n",
      "Критика ответа:\n",
      "\n",
      "Предложенный ответ был признан неудовлетворительным по нескольким причинам:\n",
      "\n",
      "1. **Несоответствие теме**: Имя \"Адам\" не полностью соответствует теме \"Гласные - только 'А'\", поскольку в некоторых вариантах имени или в связанных с ним именах присутствует гласная \"и\".\n",
      "\n",
      "2. **Недостаточная связь с контекстом**: Хотя Адам является библейской фигурой, связь между ним и сравнением Державина не была четко установлена. Не было предоставлено достаточно доказательств того, что Державин сравнивал богатого и ленивого вельможу именно с Адамом.\n",
      "\n",
      "3. **Неполный анализ**: Ответ не рассмотрел все возможные варианты имен, соответствующих критериям темы и библейскому контексту. Не было проведено глубокого анализа, чтобы найти имя, которое удовлетворяет всем условиям.\n",
      "\n",
      "4. **Отсутствие конкретного ответа**: В итоге, участник не смог предложить конкретный и однозначный ответ, который соответствовал бы всем критериям. Ответ был слишком общим и не давал четкого решения проблемы.\n",
      "\n",
      "Поэтому капитан команды оценил ответ как 0, посчитав его неудовлетворительным.\n"
     ]
    },
    {
     "data": {
      "text/plain": [
       "'Хан'"
      ]
     },
     "execution_count": 59,
     "metadata": {},
     "output_type": "execute_result"
    }
   ],
   "source": [
    "await async_ask_SDwCA_9_7(df_to_eval, 2, verbose=True, logId='SDwCA-9-7')"
   ]
  },
  {
   "cell_type": "code",
   "execution_count": 60,
   "id": "12443ad0-f1c7-486d-8682-5594d25adf03",
   "metadata": {
    "execution": {
     "iopub.execute_input": "2024-08-10T20:02:45.058678Z",
     "iopub.status.busy": "2024-08-10T20:02:45.057749Z",
     "iopub.status.idle": "2024-08-10T20:34:54.381003Z",
     "shell.execute_reply": "2024-08-10T20:34:54.380367Z",
     "shell.execute_reply.started": "2024-08-10T20:02:45.058652Z"
    }
   },
   "outputs": [
    {
     "name": "stdout",
     "output_type": "stream",
     "text": [
      "Not correct value for rating was returned: Извините, но я не могу предоставлять контент, связанный с взрослыми темами.\n",
      "f1 0.4804878127188851; EM: {'exact_match': 0.23317307692307693}\n"
     ]
    }
   ],
   "source": [
    "f1_score, em_score, responses_, f1_scores = await async_inference(df_to_eval.iloc[:, :], async_ask_SDwCA_9_7, logId='SDwCA-9-7')"
   ]
  },
  {
   "cell_type": "code",
   "execution_count": null,
   "id": "e7d76085-26f4-412c-b31e-97c9d18d5c1e",
   "metadata": {},
   "outputs": [],
   "source": []
  }
 ],
 "metadata": {
  "kernelspec": {
   "display_name": "DataSphere Kernel",
   "language": "python",
   "name": "python3"
  },
  "language_info": {
   "codemirror_mode": {
    "name": "ipython",
    "version": 3
   },
   "file_extension": ".py",
   "mimetype": "text/x-python",
   "name": "python",
   "nbconvert_exporter": "python",
   "pygments_lexer": "ipython3",
   "version": "3.10.12"
  }
 },
 "nbformat": 4,
 "nbformat_minor": 5
}
